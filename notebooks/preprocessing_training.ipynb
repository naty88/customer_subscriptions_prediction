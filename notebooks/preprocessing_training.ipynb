{
 "cells": [
  {
   "cell_type": "code",
   "execution_count": 1,
   "id": "53c9b6b3-4ea0-4797-af52-e14d35ca64dd",
   "metadata": {},
   "outputs": [],
   "source": [
    "import numpy as np\n",
    "import pandas as pd\n",
    "from sklearn.preprocessing import OrdinalEncoder, LabelEncoder, OneHotEncoder, StandardScaler\n",
    "from sklearn.model_selection import train_test_split, cross_val_score, StratifiedKFold\n",
    "from sklearn.ensemble import RandomForestClassifier, GradientBoostingClassifier\n",
    "from sklearn.compose import ColumnTransformer\n",
    "from sklearn.pipeline import Pipeline\n",
    "from imblearn.pipeline import Pipeline as ImbPipeline\n",
    "\n",
    "from sklearn import metrics\n",
    "from imblearn.over_sampling import SMOTE\n",
    "\n",
    "# classification algorithms \n",
    "from sklearn.linear_model import LogisticRegression\n",
    "from sklearn.tree import DecisionTreeClassifier\n",
    "from sklearn.neighbors import KNeighborsClassifier\n",
    "from sklearn.svm import SVC\n",
    "from sklearn.ensemble import GradientBoostingClassifier, RandomForestClassifier\n",
    "\n",
    "# metrics\n",
    "from sklearn.metrics import roc_auc_score, confusion_matrix,precision_score, recall_score, accuracy_score, balanced_accuracy_score, classification_report,roc_curve,f1_score    \n",
    "\n",
    "\n",
    "\n",
    "# TODO:\n",
    "# import black\n",
    "# import jupyter_black\n",
    "# jupyter_black.load(\n",
    "#     lab=True,\n",
    "#     line_length=100,\n",
    "#     verbosity=\"INFO\",\n",
    "#     target_version=black.TargetVersion.PY310,\n",
    "# )"
   ]
  },
  {
   "cell_type": "code",
   "execution_count": 2,
   "id": "7ff0b6e4-c121-4ce3-acab-bf3657e7a1cc",
   "metadata": {},
   "outputs": [
    {
     "data": {
      "text/html": [
       "<div>\n",
       "<style scoped>\n",
       "    .dataframe tbody tr th:only-of-type {\n",
       "        vertical-align: middle;\n",
       "    }\n",
       "\n",
       "    .dataframe tbody tr th {\n",
       "        vertical-align: top;\n",
       "    }\n",
       "\n",
       "    .dataframe thead th {\n",
       "        text-align: right;\n",
       "    }\n",
       "</style>\n",
       "<table border=\"1\" class=\"dataframe\">\n",
       "  <thead>\n",
       "    <tr style=\"text-align: right;\">\n",
       "      <th></th>\n",
       "      <th>age</th>\n",
       "      <th>job</th>\n",
       "      <th>marital</th>\n",
       "      <th>education</th>\n",
       "      <th>default</th>\n",
       "      <th>housing</th>\n",
       "      <th>loan</th>\n",
       "      <th>contact</th>\n",
       "      <th>month</th>\n",
       "      <th>day_of_week</th>\n",
       "      <th>duration</th>\n",
       "      <th>campaign</th>\n",
       "      <th>previous</th>\n",
       "      <th>poutcome</th>\n",
       "      <th>y</th>\n",
       "    </tr>\n",
       "  </thead>\n",
       "  <tbody>\n",
       "    <tr>\n",
       "      <th>0</th>\n",
       "      <td>49</td>\n",
       "      <td>blue-collar</td>\n",
       "      <td>married</td>\n",
       "      <td>basic.9y</td>\n",
       "      <td>unknown</td>\n",
       "      <td>no</td>\n",
       "      <td>no</td>\n",
       "      <td>cellular</td>\n",
       "      <td>nov</td>\n",
       "      <td>wed</td>\n",
       "      <td>227</td>\n",
       "      <td>4</td>\n",
       "      <td>0</td>\n",
       "      <td>nonexistent</td>\n",
       "      <td>no</td>\n",
       "    </tr>\n",
       "    <tr>\n",
       "      <th>1</th>\n",
       "      <td>37</td>\n",
       "      <td>entrepreneur</td>\n",
       "      <td>married</td>\n",
       "      <td>university.degree</td>\n",
       "      <td>no</td>\n",
       "      <td>no</td>\n",
       "      <td>no</td>\n",
       "      <td>telephone</td>\n",
       "      <td>nov</td>\n",
       "      <td>wed</td>\n",
       "      <td>202</td>\n",
       "      <td>2</td>\n",
       "      <td>1</td>\n",
       "      <td>failure</td>\n",
       "      <td>no</td>\n",
       "    </tr>\n",
       "    <tr>\n",
       "      <th>2</th>\n",
       "      <td>78</td>\n",
       "      <td>retired</td>\n",
       "      <td>married</td>\n",
       "      <td>basic.4y</td>\n",
       "      <td>no</td>\n",
       "      <td>no</td>\n",
       "      <td>no</td>\n",
       "      <td>cellular</td>\n",
       "      <td>jul</td>\n",
       "      <td>mon</td>\n",
       "      <td>1148</td>\n",
       "      <td>1</td>\n",
       "      <td>0</td>\n",
       "      <td>nonexistent</td>\n",
       "      <td>yes</td>\n",
       "    </tr>\n",
       "    <tr>\n",
       "      <th>3</th>\n",
       "      <td>36</td>\n",
       "      <td>admin.</td>\n",
       "      <td>married</td>\n",
       "      <td>university.degree</td>\n",
       "      <td>no</td>\n",
       "      <td>yes</td>\n",
       "      <td>no</td>\n",
       "      <td>telephone</td>\n",
       "      <td>may</td>\n",
       "      <td>mon</td>\n",
       "      <td>120</td>\n",
       "      <td>2</td>\n",
       "      <td>0</td>\n",
       "      <td>nonexistent</td>\n",
       "      <td>no</td>\n",
       "    </tr>\n",
       "    <tr>\n",
       "      <th>4</th>\n",
       "      <td>59</td>\n",
       "      <td>retired</td>\n",
       "      <td>divorced</td>\n",
       "      <td>university.degree</td>\n",
       "      <td>no</td>\n",
       "      <td>no</td>\n",
       "      <td>no</td>\n",
       "      <td>cellular</td>\n",
       "      <td>jun</td>\n",
       "      <td>tue</td>\n",
       "      <td>368</td>\n",
       "      <td>2</td>\n",
       "      <td>0</td>\n",
       "      <td>nonexistent</td>\n",
       "      <td>no</td>\n",
       "    </tr>\n",
       "  </tbody>\n",
       "</table>\n",
       "</div>"
      ],
      "text/plain": [
       "   age           job   marital          education  default housing loan  \\\n",
       "0   49   blue-collar   married           basic.9y  unknown      no   no   \n",
       "1   37  entrepreneur   married  university.degree       no      no   no   \n",
       "2   78       retired   married           basic.4y       no      no   no   \n",
       "3   36        admin.   married  university.degree       no     yes   no   \n",
       "4   59       retired  divorced  university.degree       no      no   no   \n",
       "\n",
       "     contact month day_of_week  duration  campaign  previous     poutcome    y  \n",
       "0   cellular   nov         wed       227         4         0  nonexistent   no  \n",
       "1  telephone   nov         wed       202         2         1      failure   no  \n",
       "2   cellular   jul         mon      1148         1         0  nonexistent  yes  \n",
       "3  telephone   may         mon       120         2         0  nonexistent   no  \n",
       "4   cellular   jun         tue       368         2         0  nonexistent   no  "
      ]
     },
     "execution_count": 2,
     "metadata": {},
     "output_type": "execute_result"
    }
   ],
   "source": [
    "# read the data   # TODO: function\n",
    "path_to_train_data = \"../data/train_file.xlsx\"\n",
    "df = pd.read_excel(path_to_train_data)\n",
    "df.head() "
   ]
  },
  {
   "cell_type": "code",
   "execution_count": 3,
   "id": "1f03bd51-5736-45db-8b23-80f9f0c0bfd4",
   "metadata": {},
   "outputs": [],
   "source": [
    "df.drop_duplicates(keep=\"last\", inplace=True)  # remove duplicate"
   ]
  },
  {
   "cell_type": "markdown",
   "id": "98b18651-7392-408c-9035-9c5ec94db33a",
   "metadata": {},
   "source": [
    "#### Remove some features or their categories"
   ]
  },
  {
   "cell_type": "markdown",
   "id": "352af129-d417-4c77-965e-becf3c2abe66",
   "metadata": {},
   "source": [
    "The following *features* will be removed:\n",
    "* **duration**: This feature is highly correlated with the dependent variable \"y\". The data suggest that longer contact times are associated with a higher probability of subscribing to a fixed-term deposit. However, the duration of a contact is only known after the contact has been completed and the customer has made his decision. If we want to use this model for predictive inference in production, where predictions need to be made before the contact takes place, including \"duration\" as a feature is impractical. Therefore, this feature should be excluded from the training data to ensure that the model can be used effectively for real-time prediction.\n",
    "* **day_of_week**: EDA has shown that this feature does not have a significant impact on the customer\"s decision. Given its minimal impact, including it as a feature would not significantly improve the predictive performance of the model. Removing this feature from the training data helps to simplify the model and focus on more important features."
   ]
  },
  {
   "cell_type": "code",
   "execution_count": 4,
   "id": "0ae25cfc-e384-48c1-9085-861db18be9c4",
   "metadata": {},
   "outputs": [],
   "source": [
    "features_to_remove = [\"duration\", \"day_of_week\"]\n",
    "df_adjusted = df.drop(features_to_remove, axis=1)"
   ]
  },
  {
   "cell_type": "markdown",
   "id": "9f2ec091-5f6f-40a3-aa69-62530959fdba",
   "metadata": {},
   "source": [
    "**Dealing with unknown categories:** the *\"unknown\"* categories for such features, such as \"job\", \"education\", \"default\", \"housing\", \"loan\" will be removed, as they don\"t provide significant predictive value."
   ]
  },
  {
   "cell_type": "code",
   "execution_count": 5,
   "id": "c928fad4-457b-476a-9bf8-29a65a80ee37",
   "metadata": {},
   "outputs": [],
   "source": [
    "df_adjusted = df_adjusted.query('job != \"unknown\" & education != \"unknown\" & default != \"unknown\" & housing != \"unknown\"')"
   ]
  },
  {
   "cell_type": "markdown",
   "id": "1e838927-7894-49d2-a68c-9998642432db",
   "metadata": {},
   "source": [
    "**Combining basic education categories:** to simplify the dataset and improve model performance, all basic education categories (\"basic.4y\", \"basic.6y\", \"basic.9y\") are combined into a single, more general category \"education.basic\". This will reduce the complexity of the education feature and help the model to generalize better by treating all levels of basic education as equivalent."
   ]
  },
  {
   "cell_type": "code",
   "execution_count": 6,
   "id": "d0f61cd8-ca8e-43e8-9d35-e4bdd51b8d9c",
   "metadata": {},
   "outputs": [
    {
     "data": {
      "text/html": [
       "<div>\n",
       "<style scoped>\n",
       "    .dataframe tbody tr th:only-of-type {\n",
       "        vertical-align: middle;\n",
       "    }\n",
       "\n",
       "    .dataframe tbody tr th {\n",
       "        vertical-align: top;\n",
       "    }\n",
       "\n",
       "    .dataframe thead th {\n",
       "        text-align: right;\n",
       "    }\n",
       "</style>\n",
       "<table border=\"1\" class=\"dataframe\">\n",
       "  <thead>\n",
       "    <tr style=\"text-align: right;\">\n",
       "      <th></th>\n",
       "      <th>age</th>\n",
       "      <th>job</th>\n",
       "      <th>marital</th>\n",
       "      <th>education</th>\n",
       "      <th>default</th>\n",
       "      <th>housing</th>\n",
       "      <th>loan</th>\n",
       "      <th>contact</th>\n",
       "      <th>month</th>\n",
       "      <th>campaign</th>\n",
       "      <th>previous</th>\n",
       "      <th>poutcome</th>\n",
       "      <th>y</th>\n",
       "    </tr>\n",
       "  </thead>\n",
       "  <tbody>\n",
       "    <tr>\n",
       "      <th>25043</th>\n",
       "      <td>35</td>\n",
       "      <td>technician</td>\n",
       "      <td>single</td>\n",
       "      <td>high.school</td>\n",
       "      <td>no</td>\n",
       "      <td>yes</td>\n",
       "      <td>no</td>\n",
       "      <td>cellular</td>\n",
       "      <td>aug</td>\n",
       "      <td>2</td>\n",
       "      <td>0</td>\n",
       "      <td>nonexistent</td>\n",
       "      <td>no</td>\n",
       "    </tr>\n",
       "    <tr>\n",
       "      <th>63</th>\n",
       "      <td>36</td>\n",
       "      <td>unemployed</td>\n",
       "      <td>married</td>\n",
       "      <td>university.degree</td>\n",
       "      <td>no</td>\n",
       "      <td>no</td>\n",
       "      <td>no</td>\n",
       "      <td>cellular</td>\n",
       "      <td>jul</td>\n",
       "      <td>2</td>\n",
       "      <td>0</td>\n",
       "      <td>nonexistent</td>\n",
       "      <td>no</td>\n",
       "    </tr>\n",
       "    <tr>\n",
       "      <th>17494</th>\n",
       "      <td>33</td>\n",
       "      <td>admin.</td>\n",
       "      <td>married</td>\n",
       "      <td>university.degree</td>\n",
       "      <td>no</td>\n",
       "      <td>no</td>\n",
       "      <td>no</td>\n",
       "      <td>cellular</td>\n",
       "      <td>jul</td>\n",
       "      <td>1</td>\n",
       "      <td>0</td>\n",
       "      <td>nonexistent</td>\n",
       "      <td>no</td>\n",
       "    </tr>\n",
       "  </tbody>\n",
       "</table>\n",
       "</div>"
      ],
      "text/plain": [
       "       age         job  marital          education default housing loan  \\\n",
       "25043   35  technician   single        high.school      no     yes   no   \n",
       "63      36  unemployed  married  university.degree      no      no   no   \n",
       "17494   33      admin.  married  university.degree      no      no   no   \n",
       "\n",
       "        contact month  campaign  previous     poutcome   y  \n",
       "25043  cellular   aug         2         0  nonexistent  no  \n",
       "63     cellular   jul         2         0  nonexistent  no  \n",
       "17494  cellular   jul         1         0  nonexistent  no  "
      ]
     },
     "execution_count": 6,
     "metadata": {},
     "output_type": "execute_result"
    }
   ],
   "source": [
    "df_adjusted[\"education\"] = df_adjusted[\"education\"].replace([\"basic.4y\", \"basic.6y\", \"basic.9y\"], \"education.basic\")\n",
    "df_adjusted.sample(n=3)"
   ]
  },
  {
   "cell_type": "markdown",
   "id": "f86b7c53-81a2-43a5-8729-58e214ba861f",
   "metadata": {},
   "source": [
    "**Binning age:** given the wide distribution of ages in the dataset, we will split this category into four quantile-based bins. This approach will group the ages into four equally sized bins, which will help to normalize the distribution and potentially improve the performance of the model by reducing the effect of outliers."
   ]
  },
  {
   "cell_type": "code",
   "execution_count": 7,
   "id": "88bd058e-3469-4a61-9fe5-1b50cabd49fe",
   "metadata": {},
   "outputs": [],
   "source": [
    "bins_nmb = 4\n",
    "age_order = [\"young\", \"young_adult\", \"middle_aged\", \"late_middle_aged\"]\n",
    "bins_age = pd.qcut(df_adjusted[\"age\"], q=4, labels=age_order)\n",
    "df_adjusted.insert(1, \"bins_age\", bins_age) # Min/Max in each bin: [(16.999, 31.0] < (31.0, 37.0] < (37.0, 45.0] < (45.0, 91.0]]\n",
    "# remove age column from dataframe\n",
    "df_adjusted.drop(\"age\", axis=1, inplace=True)"
   ]
  },
  {
   "cell_type": "code",
   "execution_count": 8,
   "id": "f4b45a06-562a-4070-b25b-0496331fa460",
   "metadata": {},
   "outputs": [],
   "source": [
    "# df_adjusted.bins_age.unique()"
   ]
  },
  {
   "cell_type": "markdown",
   "id": "b421119b-2635-46b8-aa7b-db8235fad732",
   "metadata": {},
   "source": [
    "#### Pipeline definition with encoding and scaling categorical and numerical features"
   ]
  },
  {
   "cell_type": "code",
   "execution_count": 9,
   "id": "51e68634-2bc1-4dc8-9ff7-e1b484b473fa",
   "metadata": {},
   "outputs": [],
   "source": [
    "# encoding with LabelEncoder\n",
    "label_encoder = LabelEncoder()\n",
    "df_adjusted[\"contact\"] = label_encoder.fit_transform(df_adjusted[\"contact\"])\n",
    "\n",
    "# encoding with binary values\n",
    "binary_mapping = {\"yes\": 1, \"no\": 0}\n",
    "columns_to_map = [\"default\", \"loan\", \"housing\", \"y\"]\n",
    "for column in columns_to_map:\n",
    "    df_adjusted[column] = df_adjusted[column].map(binary_mapping)"
   ]
  },
  {
   "cell_type": "code",
   "execution_count": 10,
   "id": "ae02e4e5-9b57-4e94-8a01-26fb30642f18",
   "metadata": {},
   "outputs": [],
   "source": [
    "# df_adjusted.head()"
   ]
  },
  {
   "cell_type": "code",
   "execution_count": 11,
   "id": "326a8651-9a99-4b94-9395-76c9cdb8fdb5",
   "metadata": {},
   "outputs": [],
   "source": [
    "# hierarchical order for some ordinal features\n",
    "education_order = [\"illiterate\", \"education.basic\", \"high.school\", \"professional.course\", \"university.degree\"]\n",
    "month_order = [\"jan\", \"feb\", \"mar\", \"apr\", \"may\", \"jun\", \"jul\", \"aug\", \"sep\", \"oct\", \"nov\", \"dec\"]\n",
    "poutcome_order = [\"nonexistent\", \"failure\", \"success\"]"
   ]
  },
  {
   "cell_type": "code",
   "execution_count": 12,
   "id": "b366ebb7-13fd-45d0-933f-bf6c706b9a38",
   "metadata": {},
   "outputs": [],
   "source": [
    "# define ColumnTransformer\n",
    "preprocessor = ColumnTransformer(\n",
    "    transformers=[\n",
    "        # ordinal encoding\n",
    "        (\"bins_age_enc\", Pipeline(steps=[\n",
    "            ('ordinal', OrdinalEncoder(categories=[age_order])),\n",
    "            ('scaler', StandardScaler())\n",
    "        ]), ['bins_age']),\n",
    "        (\"education\", Pipeline(steps=[\n",
    "            ('ordinal', OrdinalEncoder(categories=[education_order])),\n",
    "            ('scaler', StandardScaler())\n",
    "        ]), ['education']),\n",
    "        (\"month\", Pipeline(steps=[\n",
    "            ('ordinal', OrdinalEncoder(categories=[month_order])),\n",
    "            ('scaler', StandardScaler())\n",
    "        ]), ['month']),\n",
    "        (\"poutcome\", Pipeline(steps=[\n",
    "            ('ordinal', OrdinalEncoder(categories=[poutcome_order])),\n",
    "            ('scaler', StandardScaler())\n",
    "        ]), ['poutcome']),\n",
    "        \n",
    "        # LabelEncoder will be applied separately\n",
    "        (\"contact\", \"passthrough\", [\"contact\"]),\n",
    "        \n",
    "        # binary encoding will be applied separately\n",
    "        (\"binary\", \"passthrough\", [\"default\", \"loan\", \"housing\"]),\n",
    "        \n",
    "        # One-Hot encoding for job and marital\n",
    "        (\"job_marital\", OneHotEncoder(), [\"job\", \"marital\"]),\n",
    "        \n",
    "        # Standard scaling of the rest numeric features\n",
    "        (\"scaling\", StandardScaler(), [\"previous\", \"campaign\"])\n",
    "    ],\n",
    "    remainder=\"passthrough\"  # This will leave the other columns unchanged\n",
    ")"
   ]
  },
  {
   "cell_type": "code",
   "execution_count": 13,
   "id": "6a4b4fed-107a-4177-b2af-f43bc43ad55e",
   "metadata": {},
   "outputs": [
    {
     "data": {
      "text/plain": [
       "array([[-0.4065239 ,  1.18919997,  2.01043812, ...,  0.        ,\n",
       "         1.51481141, -0.18901436],\n",
       "       [ 1.37650524, -1.29334559,  0.13653145, ...,  0.        ,\n",
       "        -0.37415795, -0.56005385],\n",
       "       [-0.4065239 ,  1.18919997, -0.80042189, ...,  0.        ,\n",
       "        -0.37415795, -0.18901436],\n",
       "       ...,\n",
       "       [-0.4065239 , -0.4658304 , -0.33194522, ...,  0.        ,\n",
       "        -0.37415795,  0.18202513],\n",
       "       [-0.4065239 ,  0.36168479,  0.60500812, ...,  0.        ,\n",
       "        -0.37415795, -0.56005385],\n",
       "       [ 1.37650524, -1.29334559, -0.33194522, ...,  0.        ,\n",
       "        -0.37415795, -0.18901436]])"
      ]
     },
     "execution_count": 13,
     "metadata": {},
     "output_type": "execute_result"
    }
   ],
   "source": [
    "# Split the data\n",
    "X = df_adjusted.drop(\"y\", axis=1)\n",
    "y = df_adjusted[\"y\"]\n",
    "\n",
    "# Define the pipeline\n",
    "pipeline = Pipeline(steps=[\n",
    "    (\"preprocessor\", preprocessor)\n",
    "])\n",
    "\n",
    "# Fit and transform the data\n",
    "X_preprocessed = pipeline.fit_transform(X)\n",
    "X_preprocessed"
   ]
  },
  {
   "cell_type": "markdown",
   "id": "2e5b5764-a606-471c-9e4a-6c1cd2bb60f9",
   "metadata": {},
   "source": [
    "#### Data splitting and balancing"
   ]
  },
  {
   "cell_type": "code",
   "execution_count": 14,
   "id": "bdbdd08e-b48f-4c12-875f-f33d664e6897",
   "metadata": {},
   "outputs": [
    {
     "name": "stdout",
     "output_type": "stream",
     "text": [
      "Training set shape: (21882, 25) --- (21882,)\n",
      "Testing set shape: (2432, 25) --- (2432,)\n"
     ]
    }
   ],
   "source": [
    "X_train, X_test, y_train, y_test = train_test_split(X_preprocessed, y,test_size=0.1)\n",
    "print(f\"Training set shape: {X_train.shape} --- {y_train.shape}\")\n",
    "print(f\"Testing set shape: {X_test.shape} --- {y_test.shape}\")"
   ]
  },
  {
   "cell_type": "markdown",
   "id": "19de2419-1cd5-41c8-a9fc-12bb07988285",
   "metadata": {},
   "source": [
    "##### Since the target class is very imbalanced, it would be better to balance it before training. "
   ]
  },
  {
   "cell_type": "code",
   "execution_count": 16,
   "id": "0e733241-3bf9-4560-bb65-dd85089625b2",
   "metadata": {},
   "outputs": [
    {
     "name": "stdout",
     "output_type": "stream",
     "text": [
      "Resampled training dataset shape: (38260, 25) --- (38260,)\n"
     ]
    }
   ],
   "source": [
    "smt = SMOTE(sampling_strategy=\"minority\", random_state=42)\n",
    "X_train, y_train = smt.fit_resample(X_train, y_train)\n",
    "print(f\"Resampled training dataset shape: {X_train.shape} --- {y_train.shape}\")"
   ]
  },
  {
   "cell_type": "markdown",
   "id": "4d940663-d22a-4c8b-a43c-69eea9538788",
   "metadata": {},
   "source": [
    "#### Model selection"
   ]
  },
  {
   "cell_type": "code",
   "execution_count": 18,
   "id": "aaa09a24-deb5-4909-926b-30e738cb329d",
   "metadata": {},
   "outputs": [],
   "source": [
    "# define the models\n",
    "models = {\n",
    "    \"LogisticRegression\": LogisticRegression(),\n",
    "    \"DecisionTreeClassifier\": DecisionTreeClassifier(),\n",
    "    \"RandomForest\": RandomForestClassifier(),\n",
    "    \"GradientBoosting\": GradientBoostingClassifier(),\n",
    "    \"SVM\": SVC(),\n",
    "    \"KNN\": KNeighborsClassifier()\n",
    "}"
   ]
  },
  {
   "cell_type": "code",
   "execution_count": 19,
   "id": "bf179b5d-a8bb-41ef-a6cb-ea10369436bd",
   "metadata": {},
   "outputs": [
    {
     "name": "stdout",
     "output_type": "stream",
     "text": [
      "LogisticRegression --- [0.15472779 0.17039106 0.17440225 0.1492109  0.21921516] --- CV F1 Score: 0.1735894329979696\n",
      "DecisionTreeClassifier --- [0.29704797 0.29636364 0.28216504 0.27824463 0.30728709] --- CV F1 Score: 0.29222167438004365\n",
      "RandomForest --- [0.29082774 0.30618893 0.28886439 0.29533116 0.33264463] --- CV F1 Score: 0.3027713687092126\n",
      "GradientBoosting --- [0.29648241 0.32889964 0.2993865  0.27272727 0.32009627] --- CV F1 Score: 0.30351841893057185\n",
      "SVM --- [0.31313131 0.32512315 0.27930175 0.28423773 0.31812577] --- CV F1 Score: 0.3039839416456577\n",
      "KNN --- [0.30900243 0.30822711 0.27885714 0.25899281 0.29966704] --- CV F1 Score: 0.2909493066089281\n"
     ]
    }
   ],
   "source": [
    "# models evaluation using cross-validation\n",
    "skf = StratifiedKFold(n_splits=5)  # StratifiedKFold is better for unbalanced dataset\n",
    "for model_name, model in models.items():\n",
    "    pipeline = Pipeline(steps=[(\"preprocessor\", preprocessor), (\"classifier\", model)])\n",
    "    cv_scores = cross_val_score(pipeline, X, y, cv=skf, scoring=\"f1\")\n",
    "    print(f\"{model_name} --- {cv_scores} --- CV F1 Score: {cv_scores.mean()}\")"
   ]
  },
  {
   "cell_type": "code",
   "execution_count": null,
   "id": "4c7cc1aa-dd89-479c-886d-8ad6e4afb48c",
   "metadata": {},
   "outputs": [],
   "source": []
  },
  {
   "cell_type": "code",
   "execution_count": null,
   "id": "2af49356-08b8-49fd-bdd0-c255699ed6e5",
   "metadata": {},
   "outputs": [],
   "source": [
    "\n",
    "\n",
    "# Define evaluation metrics\n",
    "def evaluate_model(y_true, y_pred):\n",
    "    accuracy = accuracy_score(y_true, y_pred)\n",
    "    precision = precision_score(y_true, y_pred)\n",
    "    recall = recall_score(y_true, y_pred)\n",
    "    f1 = f1_score(y_true, y_pred)\n",
    "    return accuracy, precision, recall, f1"
   ]
  },
  {
   "cell_type": "code",
   "execution_count": null,
   "id": "89dca086-0277-40e3-a41a-02673baca7a7",
   "metadata": {},
   "outputs": [],
   "source": []
  },
  {
   "cell_type": "code",
   "execution_count": 17,
   "id": "dc2bfb14-3cb6-4143-ae1e-e0c39e241047",
   "metadata": {},
   "outputs": [],
   "source": [
    "# import seaborn as sns\n",
    "# import matplotlib.pyplot as plt\n",
    "# %matplotlib inline\n",
    "\n",
    "# numeric_features = [\"bins_age\", \"previous\", \"campaign\"]\n",
    "# fig, axs = plt.subplots(2, 2, figsize=(12, 6))\n",
    "# axs = axs.flatten()\n",
    "# for i, feature in enumerate(numeric_features):\n",
    "#     sns.histplot(data=df_adjusted, x=feature, discrete=True, ax=axs[i], kde=True)\n",
    "#     axs[i].grid(True)\n",
    "\n",
    "# # to prevent overlap\n",
    "# plt.tight_layout()"
   ]
  },
  {
   "cell_type": "code",
   "execution_count": null,
   "id": "d5daf9d0-df6a-4bf1-9a2e-6ccdde5e82af",
   "metadata": {},
   "outputs": [],
   "source": []
  },
  {
   "cell_type": "code",
   "execution_count": null,
   "id": "742ea980-6afb-4380-aa26-9745fc62e875",
   "metadata": {},
   "outputs": [],
   "source": []
  }
 ],
 "metadata": {
  "kernelspec": {
   "display_name": "Python 3 (ipykernel)",
   "language": "python",
   "name": "python3"
  },
  "language_info": {
   "codemirror_mode": {
    "name": "ipython",
    "version": 3
   },
   "file_extension": ".py",
   "mimetype": "text/x-python",
   "name": "python",
   "nbconvert_exporter": "python",
   "pygments_lexer": "ipython3",
   "version": "3.11.7"
  }
 },
 "nbformat": 4,
 "nbformat_minor": 5
}
