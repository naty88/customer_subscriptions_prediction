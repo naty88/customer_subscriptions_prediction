{
 "cells": [
  {
   "cell_type": "code",
   "execution_count": 1,
   "id": "3326d272f477d5e1",
   "metadata": {},
   "outputs": [],
   "source": [
    "import sys\n",
    "sys.path.append(\"../\")  # go to src directory\n",
    "\n",
    "from src.utils import read_xlsx, create_logging, split_data, calculate_metrics\n",
    "\n",
    "from src.modeling_manager.data_transformer import DataTransformer\n",
    "from src.modeling_manager.modeling import select_model, train_best_model, evaluate_model, save_model\n",
    "from sklearn.metrics import roc_auc_score, roc_curve\n",
    "\n",
    "# classification algorithms\n",
    "from sklearn.linear_model import LogisticRegression\n",
    "from sklearn.tree import DecisionTreeClassifier\n",
    "from sklearn.neighbors import KNeighborsClassifier\n",
    "from sklearn.svm import SVC\n",
    "from sklearn.ensemble import GradientBoostingClassifier, RandomForestClassifier\n",
    "\n",
    "import matplotlib.pyplot as plt\n",
    "%matplotlib inline\n",
    "\n",
    "from src.modeling_manager.model_optimizer import Optimizer"
   ]
  },
  {
   "cell_type": "code",
   "execution_count": 2,
   "id": "32488806-bb02-44b0-a8e5-686895b2018b",
   "metadata": {},
   "outputs": [],
   "source": [
    "create_logging()"
   ]
  },
  {
   "cell_type": "code",
   "execution_count": 3,
   "id": "2774374bcab24e",
   "metadata": {},
   "outputs": [
    {
     "data": {
      "text/html": [
       "<div>\n",
       "<style scoped>\n",
       "    .dataframe tbody tr th:only-of-type {\n",
       "        vertical-align: middle;\n",
       "    }\n",
       "\n",
       "    .dataframe tbody tr th {\n",
       "        vertical-align: top;\n",
       "    }\n",
       "\n",
       "    .dataframe thead th {\n",
       "        text-align: right;\n",
       "    }\n",
       "</style>\n",
       "<table border=\"1\" class=\"dataframe\">\n",
       "  <thead>\n",
       "    <tr style=\"text-align: right;\">\n",
       "      <th></th>\n",
       "      <th>age</th>\n",
       "      <th>job</th>\n",
       "      <th>marital</th>\n",
       "      <th>education</th>\n",
       "      <th>default</th>\n",
       "      <th>housing</th>\n",
       "      <th>loan</th>\n",
       "      <th>contact</th>\n",
       "      <th>month</th>\n",
       "      <th>day_of_week</th>\n",
       "      <th>duration</th>\n",
       "      <th>campaign</th>\n",
       "      <th>previous</th>\n",
       "      <th>poutcome</th>\n",
       "      <th>y</th>\n",
       "    </tr>\n",
       "  </thead>\n",
       "  <tbody>\n",
       "    <tr>\n",
       "      <th>0</th>\n",
       "      <td>49</td>\n",
       "      <td>blue-collar</td>\n",
       "      <td>married</td>\n",
       "      <td>basic.9y</td>\n",
       "      <td>unknown</td>\n",
       "      <td>no</td>\n",
       "      <td>no</td>\n",
       "      <td>cellular</td>\n",
       "      <td>nov</td>\n",
       "      <td>wed</td>\n",
       "      <td>227</td>\n",
       "      <td>4</td>\n",
       "      <td>0</td>\n",
       "      <td>nonexistent</td>\n",
       "      <td>no</td>\n",
       "    </tr>\n",
       "    <tr>\n",
       "      <th>1</th>\n",
       "      <td>37</td>\n",
       "      <td>entrepreneur</td>\n",
       "      <td>married</td>\n",
       "      <td>university.degree</td>\n",
       "      <td>no</td>\n",
       "      <td>no</td>\n",
       "      <td>no</td>\n",
       "      <td>telephone</td>\n",
       "      <td>nov</td>\n",
       "      <td>wed</td>\n",
       "      <td>202</td>\n",
       "      <td>2</td>\n",
       "      <td>1</td>\n",
       "      <td>failure</td>\n",
       "      <td>no</td>\n",
       "    </tr>\n",
       "    <tr>\n",
       "      <th>2</th>\n",
       "      <td>78</td>\n",
       "      <td>retired</td>\n",
       "      <td>married</td>\n",
       "      <td>basic.4y</td>\n",
       "      <td>no</td>\n",
       "      <td>no</td>\n",
       "      <td>no</td>\n",
       "      <td>cellular</td>\n",
       "      <td>jul</td>\n",
       "      <td>mon</td>\n",
       "      <td>1148</td>\n",
       "      <td>1</td>\n",
       "      <td>0</td>\n",
       "      <td>nonexistent</td>\n",
       "      <td>yes</td>\n",
       "    </tr>\n",
       "    <tr>\n",
       "      <th>3</th>\n",
       "      <td>36</td>\n",
       "      <td>admin.</td>\n",
       "      <td>married</td>\n",
       "      <td>university.degree</td>\n",
       "      <td>no</td>\n",
       "      <td>yes</td>\n",
       "      <td>no</td>\n",
       "      <td>telephone</td>\n",
       "      <td>may</td>\n",
       "      <td>mon</td>\n",
       "      <td>120</td>\n",
       "      <td>2</td>\n",
       "      <td>0</td>\n",
       "      <td>nonexistent</td>\n",
       "      <td>no</td>\n",
       "    </tr>\n",
       "    <tr>\n",
       "      <th>4</th>\n",
       "      <td>59</td>\n",
       "      <td>retired</td>\n",
       "      <td>divorced</td>\n",
       "      <td>university.degree</td>\n",
       "      <td>no</td>\n",
       "      <td>no</td>\n",
       "      <td>no</td>\n",
       "      <td>cellular</td>\n",
       "      <td>jun</td>\n",
       "      <td>tue</td>\n",
       "      <td>368</td>\n",
       "      <td>2</td>\n",
       "      <td>0</td>\n",
       "      <td>nonexistent</td>\n",
       "      <td>no</td>\n",
       "    </tr>\n",
       "  </tbody>\n",
       "</table>\n",
       "</div>"
      ],
      "text/plain": [
       "   age           job   marital          education  default housing loan  \\\n",
       "0   49   blue-collar   married           basic.9y  unknown      no   no   \n",
       "1   37  entrepreneur   married  university.degree       no      no   no   \n",
       "2   78       retired   married           basic.4y       no      no   no   \n",
       "3   36        admin.   married  university.degree       no     yes   no   \n",
       "4   59       retired  divorced  university.degree       no      no   no   \n",
       "\n",
       "     contact month day_of_week  duration  campaign  previous     poutcome    y  \n",
       "0   cellular   nov         wed       227         4         0  nonexistent   no  \n",
       "1  telephone   nov         wed       202         2         1      failure   no  \n",
       "2   cellular   jul         mon      1148         1         0  nonexistent  yes  \n",
       "3  telephone   may         mon       120         2         0  nonexistent   no  \n",
       "4   cellular   jun         tue       368         2         0  nonexistent   no  "
      ]
     },
     "execution_count": 3,
     "metadata": {},
     "output_type": "execute_result"
    }
   ],
   "source": [
    "# read the data \n",
    "path_to_train_data = \"../data/train_file.xlsx\"\n",
    "df = read_xlsx(path_to_train_data)\n",
    "df.head(5)"
   ]
  },
  {
   "cell_type": "markdown",
   "id": "d414e218b9ebb842",
   "metadata": {},
   "source": [
    "#### Data preprocessing"
   ]
  },
  {
   "cell_type": "markdown",
   "id": "9d83775a7a033488",
   "metadata": {},
   "source": [
    "**Removing some *features* from the dataset:**\n",
    "* **duration**:\n",
    "* This feature is highly correlated with the target variable \"y\", indicating that longer contact times are associated with a higher probability of subscribing to a fixed-term deposit. However, the duration of a contact is only known after the contact has been completed and the customer has made their decision. For predictive inference in production, where predictions need to be made before the contact occurs, including \"duration\" as a feature is impractical. Therefore, this feature should be excluded from the training data to ensure the model can be effectively used for real-time prediction.\n",
    "\n",
    "* **day_of_week**:\n",
    "* EDA has shown that this feature does not have a significant impact on the customer\"s decision. Given its minimal impact, including it as a feature would not significantly improve the predictive performance of the model. Removing this feature from the training data helps to simplify the model and focus on more important features.\n",
    "  \n",
    "**Dealing with unknown categories:** \n",
    "* Categories labeled as \"unknown\" in features such as \"job\", \"education\", \"default\", \"housing\", and \"loan\" will be removed. These categories do not provide significant predictive value and their removal helps in cleaning the dataset.\n",
    "\n",
    "**Combining basic education categories:**\n",
    "* To simplify the dataset and improve model performance, all basic education categories (\"basic.4y\", \"basic.6y\", \"basic.9y\") are combined into a single, more general category \"education.basic\". This reduces the complexity of the education feature and helps the model generalize better by treating all levels of basic education as equivalent.\n",
    "\n",
    "**Binning age:** \n",
    "* Given the wide distribution of ages in the dataset, this category will be split into four quantile-based bins. This approach groups ages into four equally sized bins, helping to normalize the distribution and potentially improve model performance by reducing the effect of outliers.\n",
    "\n",
    "**Feature Encoding**:\n",
    "* _**Ordinal features**_:\n",
    "  * **age**: Encoded into quantile-based bins and then transformed using OrdinalEncoder.\n",
    "  * **education**: Combined into \"education.basic\" and encoded using OrdinalEncoder.\n",
    "  * **month**: Encoded using OrdinalEncoder to reflect the natural order of months.\n",
    "\n",
    "* _**Categorical features**_:\n",
    "    * **job**: Encoded using OneHotEncoder to create binary columns for each job category.\n",
    "    * **default**, **loan**, **housing**, and for training data **y**: Encoded using binary mapping (e.g., \"yes\" = 1, \"no\" = 0)."
   ]
  },
  {
   "cell_type": "code",
   "execution_count": 4,
   "id": "c7bd6e72992ad6df",
   "metadata": {},
   "outputs": [
    {
     "data": {
      "text/html": [
       "<div>\n",
       "<style scoped>\n",
       "    .dataframe tbody tr th:only-of-type {\n",
       "        vertical-align: middle;\n",
       "    }\n",
       "\n",
       "    .dataframe tbody tr th {\n",
       "        vertical-align: top;\n",
       "    }\n",
       "\n",
       "    .dataframe thead th {\n",
       "        text-align: right;\n",
       "    }\n",
       "</style>\n",
       "<table border=\"1\" class=\"dataframe\">\n",
       "  <thead>\n",
       "    <tr style=\"text-align: right;\">\n",
       "      <th></th>\n",
       "      <th>bins_age</th>\n",
       "      <th>job</th>\n",
       "      <th>marital</th>\n",
       "      <th>education</th>\n",
       "      <th>default</th>\n",
       "      <th>housing</th>\n",
       "      <th>loan</th>\n",
       "      <th>contact</th>\n",
       "      <th>month</th>\n",
       "      <th>campaign</th>\n",
       "      <th>previous</th>\n",
       "      <th>poutcome</th>\n",
       "      <th>y</th>\n",
       "    </tr>\n",
       "  </thead>\n",
       "  <tbody>\n",
       "    <tr>\n",
       "      <th>1</th>\n",
       "      <td>young_adult</td>\n",
       "      <td>entrepreneur</td>\n",
       "      <td>married</td>\n",
       "      <td>university.degree</td>\n",
       "      <td>0</td>\n",
       "      <td>0</td>\n",
       "      <td>0</td>\n",
       "      <td>1</td>\n",
       "      <td>nov</td>\n",
       "      <td>2</td>\n",
       "      <td>1</td>\n",
       "      <td>failure</td>\n",
       "      <td>0</td>\n",
       "    </tr>\n",
       "    <tr>\n",
       "      <th>2</th>\n",
       "      <td>old_age</td>\n",
       "      <td>retired</td>\n",
       "      <td>married</td>\n",
       "      <td>education.basic</td>\n",
       "      <td>0</td>\n",
       "      <td>0</td>\n",
       "      <td>0</td>\n",
       "      <td>0</td>\n",
       "      <td>jul</td>\n",
       "      <td>1</td>\n",
       "      <td>0</td>\n",
       "      <td>nonexistent</td>\n",
       "      <td>1</td>\n",
       "    </tr>\n",
       "    <tr>\n",
       "      <th>3</th>\n",
       "      <td>young_adult</td>\n",
       "      <td>admin.</td>\n",
       "      <td>married</td>\n",
       "      <td>university.degree</td>\n",
       "      <td>0</td>\n",
       "      <td>1</td>\n",
       "      <td>0</td>\n",
       "      <td>1</td>\n",
       "      <td>may</td>\n",
       "      <td>2</td>\n",
       "      <td>0</td>\n",
       "      <td>nonexistent</td>\n",
       "      <td>0</td>\n",
       "    </tr>\n",
       "    <tr>\n",
       "      <th>4</th>\n",
       "      <td>middle_aged</td>\n",
       "      <td>retired</td>\n",
       "      <td>divorced</td>\n",
       "      <td>university.degree</td>\n",
       "      <td>0</td>\n",
       "      <td>0</td>\n",
       "      <td>0</td>\n",
       "      <td>0</td>\n",
       "      <td>jun</td>\n",
       "      <td>2</td>\n",
       "      <td>0</td>\n",
       "      <td>nonexistent</td>\n",
       "      <td>0</td>\n",
       "    </tr>\n",
       "    <tr>\n",
       "      <th>5</th>\n",
       "      <td>young</td>\n",
       "      <td>admin.</td>\n",
       "      <td>single</td>\n",
       "      <td>university.degree</td>\n",
       "      <td>0</td>\n",
       "      <td>0</td>\n",
       "      <td>0</td>\n",
       "      <td>0</td>\n",
       "      <td>aug</td>\n",
       "      <td>2</td>\n",
       "      <td>0</td>\n",
       "      <td>nonexistent</td>\n",
       "      <td>0</td>\n",
       "    </tr>\n",
       "  </tbody>\n",
       "</table>\n",
       "</div>"
      ],
      "text/plain": [
       "      bins_age           job   marital          education  default  housing  \\\n",
       "1  young_adult  entrepreneur   married  university.degree        0        0   \n",
       "2      old_age       retired   married    education.basic        0        0   \n",
       "3  young_adult        admin.   married  university.degree        0        1   \n",
       "4  middle_aged       retired  divorced  university.degree        0        0   \n",
       "5        young        admin.    single  university.degree        0        0   \n",
       "\n",
       "   loan contact month  campaign  previous     poutcome  y  \n",
       "1     0       1   nov         2         1      failure  0  \n",
       "2     0       0   jul         1         0  nonexistent  1  \n",
       "3     0       1   may         2         0  nonexistent  0  \n",
       "4     0       0   jun         2         0  nonexistent  0  \n",
       "5     0       0   aug         2         0  nonexistent  0  "
      ]
     },
     "execution_count": 4,
     "metadata": {},
     "output_type": "execute_result"
    }
   ],
   "source": [
    "# initialize Preprocessor\n",
    "data_transformer = DataTransformer(df)\n",
    "\n",
    "# preprocess some data\n",
    "df = data_transformer.clean_and_transform()\n",
    "df.head()"
   ]
  },
  {
   "cell_type": "markdown",
   "id": "b4d60f8141790030",
   "metadata": {},
   "source": [
    "### Model selection"
   ]
  },
  {
   "cell_type": "code",
   "execution_count": 5,
   "id": "9247fbc7-dadc-4bfd-bdee-fe8ea6e995eb",
   "metadata": {},
   "outputs": [],
   "source": [
    "# define the models\n",
    "models_list = {\n",
    "    'LogisticRegression': LogisticRegression(),\n",
    "    'DecisionTreeClassifier': DecisionTreeClassifier(),\n",
    "    'RandomForestClassifier': RandomForestClassifier(),\n",
    "    'GradientBoostingClassifier': GradientBoostingClassifier(),\n",
    "    # 'SVC': SVC(),\n",
    "    'KNN': KNeighborsClassifier()\n",
    "}"
   ]
  },
  {
   "cell_type": "code",
   "execution_count": 6,
   "id": "d92d0ed1c5959d3c",
   "metadata": {},
   "outputs": [],
   "source": [
    "# Split the data\n",
    "X_train, X_test, y_train, y_test = split_data(df, target='y')"
   ]
  },
  {
   "cell_type": "markdown",
   "id": "e497098006d776db",
   "metadata": {},
   "source": [
    "#### Step 1: Transform data and evaluate models with cross-validation"
   ]
  },
  {
   "cell_type": "code",
   "execution_count": 7,
   "id": "4c7dc26e-1057-4a39-97fa-7d66124bdcf9",
   "metadata": {},
   "outputs": [
    {
     "data": {
      "text/plain": [
       "{'LogisticRegression': {'fit_time_mean': 0.18992233276367188,\n",
       "  'accuracy_mean': 0.6703256908332152,\n",
       "  'f1_mean': 0.3543525369354194,\n",
       "  'roc_auc_mean': 0.7155139932655363},\n",
       " 'DecisionTreeClassifier': {'fit_time_mean': 0.13720998764038086,\n",
       "  'accuracy_mean': 0.8102569323699182,\n",
       "  'f1_mean': 0.2863258572841885,\n",
       "  'roc_auc_mean': 0.5890013448723838},\n",
       " 'RandomForestClassifier': {'fit_time_mean': 1.6636863708496095,\n",
       "  'accuracy_mean': 0.8385268263215633,\n",
       "  'f1_mean': 0.3269805467482412,\n",
       "  'roc_auc_mean': 0.6955600283440484},\n",
       " 'GradientBoostingClassifier': {'fit_time_mean': 2.015649127960205,\n",
       "  'accuracy_mean': 0.8610715862104042,\n",
       "  'f1_mean': 0.4034751858205756,\n",
       "  'roc_auc_mean': 0.7524162870405642},\n",
       " 'KNN': {'fit_time_mean': 0.0504704475402832,\n",
       "  'accuracy_mean': 0.7279279480143238,\n",
       "  'f1_mean': 0.3394814349344145,\n",
       "  'roc_auc_mean': 0.6615056564112324}}"
      ]
     },
     "execution_count": 7,
     "metadata": {},
     "output_type": "execute_result"
    }
   ],
   "source": [
    "eval_results = select_model(X_train, y_train, data_transformer, models_list)\n",
    "eval_results"
   ]
  },
  {
   "cell_type": "code",
   "execution_count": 8,
   "id": "b2f959d9f7897795",
   "metadata": {},
   "outputs": [
    {
     "name": "stdout",
     "output_type": "stream",
     "text": [
      "Best performed model: 'GradientBoostingClassifier'\n"
     ]
    }
   ],
   "source": [
    "# best model based on accuracy mean score\n",
    "best_model_name = max(eval_results, key=lambda model: eval_results[model][\"f1_mean\"])\n",
    "print(f\"Best performed model: '{best_model_name}'\") "
   ]
  },
  {
   "cell_type": "markdown",
   "id": "3700c2394d87607f",
   "metadata": {},
   "source": [
    "#### Step 2: Train the model with the best score"
   ]
  },
  {
   "cell_type": "code",
   "execution_count": 9,
   "id": "01fea790-f7d1-4167-9976-6ba4ebfe1b19",
   "metadata": {},
   "outputs": [
    {
     "name": "stdout",
     "output_type": "stream",
     "text": [
      "CPU times: user 2.81 s, sys: 10.9 ms, total: 2.82 s\n",
      "Wall time: 2.7 s\n"
     ]
    }
   ],
   "source": [
    "%%time\n",
    "model_pipeline = train_best_model(models_list,\n",
    "                best_model_name,\n",
    "                data_transformer,\n",
    "                X_train,\n",
    "                y_train)"
   ]
  },
  {
   "cell_type": "markdown",
   "id": "c6664290-8d0d-4ff0-8681-5ae28b658ee7",
   "metadata": {},
   "source": [
    "#### Step 3: Evaluate the model on the test data"
   ]
  },
  {
   "cell_type": "code",
   "execution_count": 10,
   "id": "4cdeace3-2afa-4c45-bd78-bd02248621d9",
   "metadata": {},
   "outputs": [
    {
     "name": "stderr",
     "output_type": "stream",
     "text": [
      "2024-06-04 19:36:29,801 - src.modeling_manager.modeling - INFO - \n",
      "              precision    recall  f1-score   support\n",
      "\n",
      "           0       0.89      0.95      0.92      3640\n",
      "           1       0.49      0.30      0.37       596\n",
      "\n",
      "    accuracy                           0.86      4236\n",
      "   macro avg       0.69      0.62      0.64      4236\n",
      "weighted avg       0.83      0.86      0.84      4236\n",
      "\n"
     ]
    },
    {
     "data": {
      "text/plain": [
       "{'accuracy': 0.8569405099150141,\n",
       " 'balanced_accuracy_score': 0.6221015561619588,\n",
       " 'precision': 0.8345460536633341,\n",
       " 'recall': 0.8569405099150141,\n",
       " 'f1_score': 0.8416963049447139}"
      ]
     },
     "execution_count": 10,
     "metadata": {},
     "output_type": "execute_result"
    }
   ],
   "source": [
    "y_pred = evaluate_model(model_pipeline, X_test, y_test)\n",
    "metrics = calculate_metrics(y_test, y_pred)\n",
    "metrics"
   ]
  },
  {
   "cell_type": "code",
   "execution_count": 11,
   "id": "16c7f7a2-2569-4092-b9ac-8129cf3f7f01",
   "metadata": {},
   "outputs": [
    {
     "data": {
      "image/png": "[encoded data removed]",
      "text/plain": [
       "<Figure size 1000x500 with 1 Axes>"
      ]
     },
     "metadata": {},
     "output_type": "display_data"
    }
   ],
   "source": [
    "def show_roc_curve(y_test, y_pred):\n",
    "    # Generate ROC curve\n",
    "    false_positive_rate, true_positive_rate, _ = roc_curve(y_test, y_pred)\n",
    "    auc_score = roc_auc_score(y_test, y_pred)\n",
    "\n",
    "    # Plot ROC curve\n",
    "    plt.figure(figsize=(10, 5))\n",
    "    plt.subplot(1, 2, 1)\n",
    "    plt.plot(false_positive_rate, true_positive_rate, label=f'ROC Curve area (AUC = {auc_score:.2f})')\n",
    "    plt.plot([0, 1], [0, 1], color='gray', lw=1, linestyle='--')\n",
    "    plt.xlabel('False Positive Rate')\n",
    "    plt.ylabel('True Positive Rate')\n",
    "    plt.title('Receiver Operating Characteristic (ROC) Curve')\n",
    "    plt.legend(loc='lower right')\n",
    "\n",
    "show_roc_curve(y_test, y_pred)"
   ]
  },
  {
   "cell_type": "markdown",
   "id": "04288aee-c216-473c-9ead-6d291d4f217c",
   "metadata": {},
   "source": [
    "#### Step 4: Persist final model"
   ]
  },
  {
   "cell_type": "code",
   "execution_count": 12,
   "id": "2d045b5a-12e3-41dd-944b-dda4b36fed06",
   "metadata": {},
   "outputs": [
    {
     "name": "stderr",
     "output_type": "stream",
     "text": [
      "2024-06-04 19:36:29,965 - src.modeling_manager.modeling - INFO - Final model saved to /home/nataliia/Workspaces/edu_private/user_subscription_prediction/model/trained_model_pipeline.pkl\n"
     ]
    }
   ],
   "source": [
    "save_model(model_pipeline)"
   ]
  },
  {
   "cell_type": "markdown",
   "id": "b96840fa-67d1-4d41-9580-74172e570325",
   "metadata": {},
   "source": [
    "#### Optional Step: Hyperparameter tuning with Optuna\n",
    "_Hyperparameter tuning can take more than 15 minutes depending on the number of trials_"
   ]
  },
  {
   "cell_type": "code",
   "execution_count": 13,
   "id": "a5271d79-cf3d-4f7a-94d8-b7c6911c5043",
   "metadata": {},
   "outputs": [],
   "source": [
    "# define the models again so that they can be initialized with parameters\n",
    "models_list = {\n",
    "    'LogisticRegression': LogisticRegression,\n",
    "    'DecisionTreeClassifier': DecisionTreeClassifier,\n",
    "    'RandomForestClassifier': RandomForestClassifier,\n",
    "    'GradientBoostingClassifier': GradientBoostingClassifier,\n",
    "    'SVC': SVC,\n",
    "    'KNN': KNeighborsClassifier\n",
    "}\n",
    "\n",
    "# predifine a set of hyperparameters for the models\n",
    "models_params = {\n",
    "    \"LogisticRegression\":  {\n",
    "        'C': [0.01, 0.1], # Regularization parameter, controlling the trade-off between maximizing the margin and minimizing classification error\n",
    "        'solver': [\"liblinear\", \"newton-cholesky\"],\n",
    "        'random_state': 42\n",
    "    },\n",
    "    \"DecisionTreeClassifier\": {\n",
    "        'splitter': [\"best\", \"random\"],\n",
    "        'max_depth':  [1, 4],\n",
    "        'class_weight': [None, \"balanced\"],\n",
    "        'random_state': 42\n",
    "    },\n",
    "    \"RandomForestClassifier\": {\n",
    "        'n_estimators': [100, 500],\n",
    "        'max_depth': [1, 4],\n",
    "        'random_state': 42\n",
    "    },\n",
    "    \"GradientBoostingClassifier\": {\n",
    "        'learning_rate': [0.01, 0.1],\n",
    "        'n_estimators': [100, 200],\n",
    "        'max_depth': [3, 6],\n",
    "        'random_state': 42\n",
    "    },\n",
    "    \"SVC\": {\n",
    "        'C': [0.1, 1.5],\n",
    "        'gamma': [\"scale\", \"auto\"],\n",
    "        'kernel': [\"linear\", \"poly\", \"rbf\"],\n",
    "        'random_state': 42\n",
    "    },\n",
    "    \"KNN\": {\n",
    "        'n_neighbors': [2, 19],\n",
    "        'weights': ['uniform', 'distance'],\n",
    "        'metric': ['l2', 'manhattan', 'cosine']\n",
    "    }\n",
    "}"
   ]
  },
  {
   "cell_type": "code",
   "execution_count": null,
   "id": "e922868b-0f7b-4029-95cb-be3e87258ecf",
   "metadata": {},
   "outputs": [
    {
     "name": "stderr",
     "output_type": "stream",
     "text": [
      "2024-06-04 19:36:29,991 - src.modeling_manager.model_optimizer - INFO - Initialized Optimizer with model: GradientBoostingClassifier\n",
      "[I 2024-06-04 19:36:30,388] A new study created in RDB with name: no-name-a6ab739c-18e5-4331-94ca-d85c615cdaac\n",
      "[I 2024-06-04 19:36:38,677] Trial 0 finished with value: 0.4174065268808961 and parameters: {'learning_rate': 0.01675661814999446, 'n_estimators': 142, 'max_depth': 6}. Best is trial 0 with value: 0.4174065268808961.\n",
      "[I 2024-06-04 19:36:44,036] Trial 1 finished with value: 0.3963396950580659 and parameters: {'learning_rate': 0.010803486055031269, 'n_estimators': 124, 'max_depth': 4}. Best is trial 0 with value: 0.4174065268808961.\n",
      "[I 2024-06-04 19:36:49,336] Trial 2 finished with value: 0.39212464856938023 and parameters: {'learning_rate': 0.08284165463686123, 'n_estimators': 102, 'max_depth': 5}. Best is trial 0 with value: 0.4174065268808961.\n",
      "[I 2024-06-04 19:36:55,660] Trial 3 finished with value: 0.3831461081449532 and parameters: {'learning_rate': 0.08450597590834678, 'n_estimators': 156, 'max_depth': 4}. Best is trial 0 with value: 0.4174065268808961.\n",
      "[I 2024-06-04 19:37:02,524] Trial 4 finished with value: 0.3804933184342252 and parameters: {'learning_rate': 0.07704094971586543, 'n_estimators': 184, 'max_depth': 4}. Best is trial 0 with value: 0.4174065268808961.\n",
      "[I 2024-06-04 19:37:11,510] Trial 5 finished with value: 0.3799263889529124 and parameters: {'learning_rate': 0.06097012548413235, 'n_estimators': 174, 'max_depth': 6}. Best is trial 0 with value: 0.4174065268808961.\n",
      "[I 2024-06-04 19:37:17,236] Trial 6 finished with value: 0.41386705827700976 and parameters: {'learning_rate': 0.026057344153242144, 'n_estimators': 156, 'max_depth': 4}. Best is trial 0 with value: 0.4174065268808961.\n",
      "[I 2024-06-04 19:37:23,899] Trial 7 finished with value: 0.3787806227306517 and parameters: {'learning_rate': 0.08929421010799517, 'n_estimators': 179, 'max_depth': 4}. Best is trial 0 with value: 0.4174065268808961.\n",
      "[I 2024-06-04 19:37:30,598] Trial 8 finished with value: 0.3801632661890801 and parameters: {'learning_rate': 0.07988453565893495, 'n_estimators': 127, 'max_depth': 6}. Best is trial 0 with value: 0.4174065268808961.\n",
      "[I 2024-06-04 19:37:41,037] Trial 9 finished with value: 0.3542500497538591 and parameters: {'learning_rate': 0.09839007688899899, 'n_estimators': 192, 'max_depth': 6}. Best is trial 0 with value: 0.4174065268808961.\n",
      "[I 2024-06-04 19:37:45,935] Trial 10 finished with value: 0.4124762204075168 and parameters: {'learning_rate': 0.03848984224018588, 'n_estimators': 134, 'max_depth': 3}. Best is trial 0 with value: 0.4174065268808961.\n",
      "[I 2024-06-04 19:37:52,882] Trial 11 finished with value: 0.4073222601407612 and parameters: {'learning_rate': 0.014473193204819688, 'n_estimators': 152, 'max_depth': 5}. Best is trial 0 with value: 0.4174065268808961.\n",
      "[I 2024-06-04 19:37:57,853] Trial 12 finished with value: 0.41076431068147967 and parameters: {'learning_rate': 0.031201554600869354, 'n_estimators': 162, 'max_depth': 3}. Best is trial 0 with value: 0.4174065268808961.\n",
      "[I 2024-06-04 19:38:04,963] Trial 13 finished with value: 0.4037752143707894 and parameters: {'learning_rate': 0.030251250223299865, 'n_estimators': 140, 'max_depth': 5}. Best is trial 0 with value: 0.4174065268808961.\n",
      "[I 2024-06-04 19:38:10,452] Trial 14 finished with value: 0.39920853049631666 and parameters: {'learning_rate': 0.047603172766489385, 'n_estimators': 113, 'max_depth': 5}. Best is trial 0 with value: 0.4174065268808961.\n",
      "[I 2024-06-04 19:38:14,955] Trial 15 finished with value: 0.3920036662242897 and parameters: {'learning_rate': 0.022446597351981585, 'n_estimators': 142, 'max_depth': 3}. Best is trial 0 with value: 0.4174065268808961.\n",
      "[I 2024-06-04 19:38:24,970] Trial 16 finished with value: 0.38388964595450764 and parameters: {'learning_rate': 0.05123380884781803, 'n_estimators': 165, 'max_depth': 6}. Best is trial 0 with value: 0.4174065268808961.\n",
      "[I 2024-06-04 19:38:32,060] Trial 17 finished with value: 0.389299949570345 and parameters: {'learning_rate': 0.06231930239998314, 'n_estimators': 147, 'max_depth': 5}. Best is trial 0 with value: 0.4174065268808961.\n",
      "[I 2024-06-04 19:38:38,760] Trial 18 finished with value: 0.41882628912999403 and parameters: {'learning_rate': 0.02061674766092905, 'n_estimators': 169, 'max_depth': 4}. Best is trial 18 with value: 0.41882628912999403.\n",
      "[I 2024-06-04 19:38:45,074] Trial 19 finished with value: 0.4076865142493954 and parameters: {'learning_rate': 0.04045007526978059, 'n_estimators': 196, 'max_depth': 3}. Best is trial 18 with value: 0.41882628912999403.\n",
      "[I 2024-06-04 19:38:54,649] Trial 20 finished with value: 0.42063676295528546 and parameters: {'learning_rate': 0.017884605265449022, 'n_estimators': 171, 'max_depth': 6}. Best is trial 20 with value: 0.42063676295528546.\n",
      "[I 2024-06-04 19:39:03,486] Trial 21 finished with value: 0.4165111862131671 and parameters: {'learning_rate': 0.017898419838554034, 'n_estimators': 166, 'max_depth': 6}. Best is trial 20 with value: 0.42063676295528546.\n",
      "[I 2024-06-04 19:39:12,784] Trial 22 finished with value: 0.4187211751602219 and parameters: {'learning_rate': 0.01968906837093716, 'n_estimators': 173, 'max_depth': 6}. Best is trial 20 with value: 0.42063676295528546.\n",
      "[I 2024-06-04 19:39:20,898] Trial 23 finished with value: 0.39124094407498916 and parameters: {'learning_rate': 0.03685055482655649, 'n_estimators': 172, 'max_depth': 5}. Best is trial 20 with value: 0.42063676295528546.\n",
      "[I 2024-06-04 19:39:31,182] Trial 24 finished with value: 0.40299335801266134 and parameters: {'learning_rate': 0.02340542171151635, 'n_estimators': 187, 'max_depth': 6}. Best is trial 20 with value: 0.42063676295528546.\n",
      "[I 2024-06-04 19:39:39,462] Trial 25 finished with value: 0.39707507634688277 and parameters: {'learning_rate': 0.03149008037014062, 'n_estimators': 175, 'max_depth': 5}. Best is trial 20 with value: 0.42063676295528546.\n",
      "[I 2024-06-04 19:39:47,523] Trial 26 finished with value: 0.41502271113285494 and parameters: {'learning_rate': 0.020529242408212783, 'n_estimators': 200, 'max_depth': 4}. Best is trial 20 with value: 0.42063676295528546.\n",
      "[I 2024-06-04 19:39:57,634] Trial 27 finished with value: 0.42322406888254555 and parameters: {'learning_rate': 0.010851647293887387, 'n_estimators': 186, 'max_depth': 6}. Best is trial 27 with value: 0.42322406888254555.\n",
      "[I 2024-06-04 19:40:06,792] Trial 28 finished with value: 0.4107208380756446 and parameters: {'learning_rate': 0.010871493603009041, 'n_estimators': 188, 'max_depth': 5}. Best is trial 27 with value: 0.42322406888254555.\n",
      "[I 2024-06-04 19:40:17,049] Trial 29 finished with value: 0.3913048970829103 and parameters: {'learning_rate': 0.04298705328660392, 'n_estimators': 182, 'max_depth': 6}. Best is trial 27 with value: 0.42322406888254555.\n",
      "[I 2024-06-04 19:40:25,830] Trial 30 finished with value: 0.4176905149571132 and parameters: {'learning_rate': 0.010019707852285424, 'n_estimators': 162, 'max_depth': 6}. Best is trial 27 with value: 0.42322406888254555.\n",
      "[I 2024-06-04 19:40:35,061] Trial 31 finished with value: 0.41627892152760826 and parameters: {'learning_rate': 0.016544577548317122, 'n_estimators': 170, 'max_depth': 6}. Best is trial 27 with value: 0.42322406888254555.\n",
      "[I 2024-06-04 19:40:44,771] Trial 32 finished with value: 0.4093828750458922 and parameters: {'learning_rate': 0.02638575882209701, 'n_estimators': 178, 'max_depth': 6}. Best is trial 27 with value: 0.42322406888254555.\n",
      "[I 2024-06-04 19:40:55,230] Trial 33 finished with value: 0.4180962374806826 and parameters: {'learning_rate': 0.0165232919991274, 'n_estimators': 191, 'max_depth': 6}. Best is trial 27 with value: 0.42322406888254555.\n",
      "[I 2024-06-04 19:41:04,359] Trial 34 finished with value: 0.42608536813313835 and parameters: {'learning_rate': 0.014143625993979793, 'n_estimators': 168, 'max_depth': 6}. Best is trial 34 with value: 0.42608536813313835.\n",
      "[I 2024-06-04 19:41:11,622] Trial 35 finished with value: 0.4006456474287939 and parameters: {'learning_rate': 0.0138378648034828, 'n_estimators': 159, 'max_depth': 4}. Best is trial 34 with value: 0.42608536813313835.\n",
      "[I 2024-06-04 19:41:19,675] Trial 36 finished with value: 0.4008050593984883 and parameters: {'learning_rate': 0.03466045305809279, 'n_estimators': 169, 'max_depth': 5}. Best is trial 34 with value: 0.42608536813313835.\n",
      "[I 2024-06-04 19:41:26,805] Trial 37 finished with value: 0.40987702941475035 and parameters: {'learning_rate': 0.027330812201794327, 'n_estimators': 179, 'max_depth': 4}. Best is trial 34 with value: 0.42608536813313835.\n",
      "[I 2024-06-04 19:41:33,025] Trial 38 finished with value: 0.39479192416909736 and parameters: {'learning_rate': 0.061762141209933896, 'n_estimators': 151, 'max_depth': 4}. Best is trial 34 with value: 0.42608536813313835.\n",
      "[I 2024-06-04 19:41:44,555] Trial 39 finished with value: 0.4198429859304884 and parameters: {'learning_rate': 0.010463956509793081, 'n_estimators': 183, 'max_depth': 6}. Best is trial 34 with value: 0.42608536813313835.\n",
      "[I 2024-06-04 19:41:55,141] Trial 40 finished with value: 0.42003936446225937 and parameters: {'learning_rate': 0.011405862199910053, 'n_estimators': 183, 'max_depth': 6}. Best is trial 34 with value: 0.42608536813313835.\n",
      "[I 2024-06-04 19:42:05,673] Trial 41 finished with value: 0.41977411538656223 and parameters: {'learning_rate': 0.011237536485887004, 'n_estimators': 185, 'max_depth': 6}. Best is trial 34 with value: 0.42608536813313835.\n",
      "[I 2024-06-04 19:42:15,807] Trial 42 finished with value: 0.3716144109812167 and parameters: {'learning_rate': 0.06834698385802696, 'n_estimators': 182, 'max_depth': 6}. Best is trial 34 with value: 0.42608536813313835.\n",
      "[I 2024-06-04 19:42:26,502] Trial 43 finished with value: 0.4194250666127468 and parameters: {'learning_rate': 0.014356294738291402, 'n_estimators': 193, 'max_depth': 6}. Best is trial 34 with value: 0.42608536813313835.\n",
      "[I 2024-06-04 19:42:37,937] Trial 44 finished with value: 0.40417093042071633 and parameters: {'learning_rate': 0.02438421376542837, 'n_estimators': 199, 'max_depth': 6}. Best is trial 34 with value: 0.42608536813313835.\n",
      "[I 2024-06-04 19:42:48,832] Trial 45 finished with value: 0.4223656618220747 and parameters: {'learning_rate': 0.016750721279047455, 'n_estimators': 176, 'max_depth': 6}. Best is trial 34 with value: 0.42608536813313835.\n",
      "[I 2024-06-04 19:43:00,451] Trial 46 finished with value: 0.41969915366984695 and parameters: {'learning_rate': 0.01731014623149745, 'n_estimators': 177, 'max_depth': 6}. Best is trial 34 with value: 0.42608536813313835.\n",
      "[I 2024-06-04 19:43:08,734] Trial 47 finished with value: 0.40505091456384273 and parameters: {'learning_rate': 0.02873323101833486, 'n_estimators': 155, 'max_depth': 6}. Best is trial 34 with value: 0.42608536813313835.\n",
      "[I 2024-06-04 19:43:19,042] Trial 48 finished with value: 0.4205193565346673 and parameters: {'learning_rate': 0.014356204345385261, 'n_estimators': 190, 'max_depth': 6}. Best is trial 34 with value: 0.42608536813313835.\n",
      "[I 2024-06-04 19:43:28,500] Trial 49 finished with value: 0.41162738440217017 and parameters: {'learning_rate': 0.022613590468070252, 'n_estimators': 191, 'max_depth': 5}. Best is trial 34 with value: 0.42608536813313835.\n",
      "[I 2024-06-04 19:43:34,580] Trial 50 finished with value: 0.41245569791920494 and parameters: {'learning_rate': 0.032979840655069516, 'n_estimators': 100, 'max_depth': 6}. Best is trial 34 with value: 0.42608536813313835.\n",
      "[I 2024-06-04 19:43:45,458] Trial 51 finished with value: 0.41581204355886625 and parameters: {'learning_rate': 0.014528842300825547, 'n_estimators': 180, 'max_depth': 6}. Best is trial 34 with value: 0.42608536813313835.\n"
     ]
    }
   ],
   "source": [
    "%%time\n",
    "optimizer = Optimizer(best_model_name, models_list, models_params, n_trials=200)\n",
    "tuned_model_pipeline = optimizer.hyperparameter_tuning(data_transformer, X_train, y_train)\n",
    "\n",
    "# you can observe the optimization process starting optuna dashboard from notebooks/ directory using CLI:\n",
    "# optuna-dashboard sqlite:///db.sqlite3"
   ]
  },
  {
   "cell_type": "code",
   "execution_count": null,
   "id": "2366779e-6701-4fac-88f3-64c96e0c3fa6",
   "metadata": {},
   "outputs": [],
   "source": [
    "# evaluate the tuned model\n",
    "evaluate_model(tuned_model_pipeline, X_test, y_test)\n",
    "metrics = calculate_metrics(y_test, y_pred)\n",
    "metrics"
   ]
  },
  {
   "cell_type": "code",
   "execution_count": null,
   "id": "9bf558c3-ea6c-42ec-8b51-9590bf170c30",
   "metadata": {},
   "outputs": [],
   "source": [
    "show_roc_curve(y_test, y_pred)"
   ]
  },
  {
   "cell_type": "code",
   "execution_count": null,
   "id": "03c0d4a9-dea5-4449-b225-4ed2a5e37623",
   "metadata": {},
   "outputs": [],
   "source": [
    "# persist tuned model\n",
    "save_model(tuned_model_pipeline, file_name=\"trained_model_pipeline_tuned.pkl\")"
   ]
  },
  {
   "cell_type": "code",
   "execution_count": null,
   "id": "c1c018bd-ae4b-4882-b838-8651d913c9af",
   "metadata": {},
   "outputs": [],
   "source": []
  },
  {
   "cell_type": "code",
   "execution_count": null,
   "id": "0b542ed5-e490-4562-97e4-10c36eff0cc7",
   "metadata": {},
   "outputs": [],
   "source": []
  }
 ],
 "metadata": {
  "kernelspec": {
   "display_name": "Python 3 (ipykernel)",
   "language": "python",
   "name": "python3"
  },
  "language_info": {
   "codemirror_mode": {
    "name": "ipython",
    "version": 3
   },
   "file_extension": ".py",
   "mimetype": "text/x-python",
   "name": "python",
   "nbconvert_exporter": "python",
   "pygments_lexer": "ipython3",
   "version": "3.11.7"
  }
 },
 "nbformat": 4,
 "nbformat_minor": 5
}
