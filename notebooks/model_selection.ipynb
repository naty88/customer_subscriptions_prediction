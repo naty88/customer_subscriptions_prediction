{
 "cells": [
  {
   "cell_type": "code",
   "execution_count": 1,
   "id": "3326d272f477d5e1",
   "metadata": {},
   "outputs": [],
   "source": [
    "import sys\n",
    "sys.path.append(\"../\")  # go to src directory\n",
    "\n",
    "from src.utils import read_xlsx, create_logging, split_data, calculate_metrics\n",
    "\n",
    "from src.modeling_manager.data_transformer import DataTransformer\n",
    "from src.modeling_manager.modeling import select_model, train_best_model, evaluate_model, save_model\n",
    "from sklearn.metrics import roc_auc_score, roc_curve\n",
    "\n",
    "# classification algorithms\n",
    "from sklearn.linear_model import LogisticRegression\n",
    "from sklearn.tree import DecisionTreeClassifier\n",
    "from sklearn.neighbors import KNeighborsClassifier\n",
    "from sklearn.svm import SVC\n",
    "from sklearn.ensemble import GradientBoostingClassifier, RandomForestClassifier\n",
    "\n",
    "import matplotlib.pyplot as plt\n",
    "%matplotlib inline\n",
    "\n",
    "from src.modeling_manager.model_optimizer import Optimizer"
   ]
  },
  {
   "cell_type": "code",
   "execution_count": 2,
   "id": "32488806-bb02-44b0-a8e5-686895b2018b",
   "metadata": {},
   "outputs": [],
   "source": [
    "create_logging()"
   ]
  },
  {
   "cell_type": "code",
   "execution_count": 3,
   "id": "2774374bcab24e",
   "metadata": {},
   "outputs": [
    {
     "data": {
      "text/html": [
       "<div>\n",
       "<style scoped>\n",
       "    .dataframe tbody tr th:only-of-type {\n",
       "        vertical-align: middle;\n",
       "    }\n",
       "\n",
       "    .dataframe tbody tr th {\n",
       "        vertical-align: top;\n",
       "    }\n",
       "\n",
       "    .dataframe thead th {\n",
       "        text-align: right;\n",
       "    }\n",
       "</style>\n",
       "<table border=\"1\" class=\"dataframe\">\n",
       "  <thead>\n",
       "    <tr style=\"text-align: right;\">\n",
       "      <th></th>\n",
       "      <th>age</th>\n",
       "      <th>job</th>\n",
       "      <th>marital</th>\n",
       "      <th>education</th>\n",
       "      <th>default</th>\n",
       "      <th>housing</th>\n",
       "      <th>loan</th>\n",
       "      <th>contact</th>\n",
       "      <th>month</th>\n",
       "      <th>day_of_week</th>\n",
       "      <th>duration</th>\n",
       "      <th>campaign</th>\n",
       "      <th>previous</th>\n",
       "      <th>poutcome</th>\n",
       "      <th>y</th>\n",
       "    </tr>\n",
       "  </thead>\n",
       "  <tbody>\n",
       "    <tr>\n",
       "      <th>0</th>\n",
       "      <td>49</td>\n",
       "      <td>blue-collar</td>\n",
       "      <td>married</td>\n",
       "      <td>basic.9y</td>\n",
       "      <td>unknown</td>\n",
       "      <td>no</td>\n",
       "      <td>no</td>\n",
       "      <td>cellular</td>\n",
       "      <td>nov</td>\n",
       "      <td>wed</td>\n",
       "      <td>227</td>\n",
       "      <td>4</td>\n",
       "      <td>0</td>\n",
       "      <td>nonexistent</td>\n",
       "      <td>no</td>\n",
       "    </tr>\n",
       "    <tr>\n",
       "      <th>1</th>\n",
       "      <td>37</td>\n",
       "      <td>entrepreneur</td>\n",
       "      <td>married</td>\n",
       "      <td>university.degree</td>\n",
       "      <td>no</td>\n",
       "      <td>no</td>\n",
       "      <td>no</td>\n",
       "      <td>telephone</td>\n",
       "      <td>nov</td>\n",
       "      <td>wed</td>\n",
       "      <td>202</td>\n",
       "      <td>2</td>\n",
       "      <td>1</td>\n",
       "      <td>failure</td>\n",
       "      <td>no</td>\n",
       "    </tr>\n",
       "    <tr>\n",
       "      <th>2</th>\n",
       "      <td>78</td>\n",
       "      <td>retired</td>\n",
       "      <td>married</td>\n",
       "      <td>basic.4y</td>\n",
       "      <td>no</td>\n",
       "      <td>no</td>\n",
       "      <td>no</td>\n",
       "      <td>cellular</td>\n",
       "      <td>jul</td>\n",
       "      <td>mon</td>\n",
       "      <td>1148</td>\n",
       "      <td>1</td>\n",
       "      <td>0</td>\n",
       "      <td>nonexistent</td>\n",
       "      <td>yes</td>\n",
       "    </tr>\n",
       "    <tr>\n",
       "      <th>3</th>\n",
       "      <td>36</td>\n",
       "      <td>admin.</td>\n",
       "      <td>married</td>\n",
       "      <td>university.degree</td>\n",
       "      <td>no</td>\n",
       "      <td>yes</td>\n",
       "      <td>no</td>\n",
       "      <td>telephone</td>\n",
       "      <td>may</td>\n",
       "      <td>mon</td>\n",
       "      <td>120</td>\n",
       "      <td>2</td>\n",
       "      <td>0</td>\n",
       "      <td>nonexistent</td>\n",
       "      <td>no</td>\n",
       "    </tr>\n",
       "    <tr>\n",
       "      <th>4</th>\n",
       "      <td>59</td>\n",
       "      <td>retired</td>\n",
       "      <td>divorced</td>\n",
       "      <td>university.degree</td>\n",
       "      <td>no</td>\n",
       "      <td>no</td>\n",
       "      <td>no</td>\n",
       "      <td>cellular</td>\n",
       "      <td>jun</td>\n",
       "      <td>tue</td>\n",
       "      <td>368</td>\n",
       "      <td>2</td>\n",
       "      <td>0</td>\n",
       "      <td>nonexistent</td>\n",
       "      <td>no</td>\n",
       "    </tr>\n",
       "  </tbody>\n",
       "</table>\n",
       "</div>"
      ],
      "text/plain": [
       "   age           job   marital          education  default housing loan  \\\n",
       "0   49   blue-collar   married           basic.9y  unknown      no   no   \n",
       "1   37  entrepreneur   married  university.degree       no      no   no   \n",
       "2   78       retired   married           basic.4y       no      no   no   \n",
       "3   36        admin.   married  university.degree       no     yes   no   \n",
       "4   59       retired  divorced  university.degree       no      no   no   \n",
       "\n",
       "     contact month day_of_week  duration  campaign  previous     poutcome    y  \n",
       "0   cellular   nov         wed       227         4         0  nonexistent   no  \n",
       "1  telephone   nov         wed       202         2         1      failure   no  \n",
       "2   cellular   jul         mon      1148         1         0  nonexistent  yes  \n",
       "3  telephone   may         mon       120         2         0  nonexistent   no  \n",
       "4   cellular   jun         tue       368         2         0  nonexistent   no  "
      ]
     },
     "execution_count": 3,
     "metadata": {},
     "output_type": "execute_result"
    }
   ],
   "source": [
    "# read the data \n",
    "path_to_train_data = \"../data/train_file.xlsx\"\n",
    "df = read_xlsx(path_to_train_data)\n",
    "df.head(5)"
   ]
  },
  {
   "cell_type": "markdown",
   "id": "d414e218b9ebb842",
   "metadata": {},
   "source": [
    "#### Data preprocessing"
   ]
  },
  {
   "cell_type": "markdown",
   "id": "9d83775a7a033488",
   "metadata": {},
   "source": [
    "**Removing some *features* from the dataset:**\n",
    "* **duration**:\n",
    "* This feature is highly correlated with the target variable \"y\", indicating that longer contact times are associated with a higher probability of subscribing to a fixed-term deposit. However, the duration of a contact is only known after the contact has been completed and the customer has made their decision. For predictive inference in production, where predictions need to be made before the contact occurs, including \"duration\" as a feature is impractical. Therefore, this feature should be excluded from the training data to ensure the model can be effectively used for real-time prediction.\n",
    "\n",
    "* **day_of_week**:\n",
    "* EDA has shown that this feature does not have a significant impact on the customer\"s decision. Given its minimal impact, including it as a feature would not significantly improve the predictive performance of the model. Removing this feature from the training data helps to simplify the model and focus on more important features.\n",
    "  \n",
    "**Dealing with unknown categories:** \n",
    "* Categories labeled as \"unknown\" in features such as \"job\", \"education\", \"default\", \"housing\", and \"loan\" will be removed. These categories do not provide significant predictive value and their removal helps in cleaning the dataset.\n",
    "\n",
    "**Combining basic education categories:**\n",
    "* To simplify the dataset and improve model performance, all basic education categories (\"basic.4y\", \"basic.6y\", \"basic.9y\") are combined into a single, more general category \"education.basic\". This reduces the complexity of the education feature and helps the model generalize better by treating all levels of basic education as equivalent.\n",
    "\n",
    "**Binning age:** \n",
    "* Given the wide distribution of ages in the dataset, this category will be split into four quantile-based bins. This approach groups ages into four equally sized bins, helping to normalize the distribution and potentially improve model performance by reducing the effect of outliers.\n",
    "\n",
    "**Feature Encoding**:\n",
    "* _**Ordinal features**_:\n",
    "  * **age**: Encoded into quantile-based bins and then transformed using OrdinalEncoder.\n",
    "  * **education**: Combined into \"education.basic\" and encoded using OrdinalEncoder.\n",
    "  * **month**: Encoded using OrdinalEncoder to reflect the natural order of months.\n",
    "\n",
    "* _**Categorical features**_:\n",
    "    * **job**: Encoded using OneHotEncoder to create binary columns for each job category.\n",
    "    * **default**, **loan**, **housing**, and for training data **y**: Encoded using binary mapping (e.g., \"yes\" = 1, \"no\" = 0)."
   ]
  },
  {
   "cell_type": "code",
   "execution_count": 4,
   "id": "c7bd6e72992ad6df",
   "metadata": {},
   "outputs": [
    {
     "data": {
      "text/html": [
       "<div>\n",
       "<style scoped>\n",
       "    .dataframe tbody tr th:only-of-type {\n",
       "        vertical-align: middle;\n",
       "    }\n",
       "\n",
       "    .dataframe tbody tr th {\n",
       "        vertical-align: top;\n",
       "    }\n",
       "\n",
       "    .dataframe thead th {\n",
       "        text-align: right;\n",
       "    }\n",
       "</style>\n",
       "<table border=\"1\" class=\"dataframe\">\n",
       "  <thead>\n",
       "    <tr style=\"text-align: right;\">\n",
       "      <th></th>\n",
       "      <th>bins_age</th>\n",
       "      <th>job</th>\n",
       "      <th>marital</th>\n",
       "      <th>education</th>\n",
       "      <th>default</th>\n",
       "      <th>housing</th>\n",
       "      <th>loan</th>\n",
       "      <th>contact</th>\n",
       "      <th>month</th>\n",
       "      <th>day_of_week</th>\n",
       "      <th>campaign</th>\n",
       "      <th>previous</th>\n",
       "      <th>poutcome</th>\n",
       "      <th>y</th>\n",
       "    </tr>\n",
       "  </thead>\n",
       "  <tbody>\n",
       "    <tr>\n",
       "      <th>1</th>\n",
       "      <td>young_adult</td>\n",
       "      <td>entrepreneur</td>\n",
       "      <td>married</td>\n",
       "      <td>university.degree</td>\n",
       "      <td>0</td>\n",
       "      <td>0</td>\n",
       "      <td>0</td>\n",
       "      <td>1</td>\n",
       "      <td>nov</td>\n",
       "      <td>wed</td>\n",
       "      <td>2</td>\n",
       "      <td>1</td>\n",
       "      <td>failure</td>\n",
       "      <td>0</td>\n",
       "    </tr>\n",
       "    <tr>\n",
       "      <th>2</th>\n",
       "      <td>old_age</td>\n",
       "      <td>retired</td>\n",
       "      <td>married</td>\n",
       "      <td>education.basic</td>\n",
       "      <td>0</td>\n",
       "      <td>0</td>\n",
       "      <td>0</td>\n",
       "      <td>0</td>\n",
       "      <td>jul</td>\n",
       "      <td>mon</td>\n",
       "      <td>1</td>\n",
       "      <td>0</td>\n",
       "      <td>nonexistent</td>\n",
       "      <td>1</td>\n",
       "    </tr>\n",
       "    <tr>\n",
       "      <th>3</th>\n",
       "      <td>young_adult</td>\n",
       "      <td>admin.</td>\n",
       "      <td>married</td>\n",
       "      <td>university.degree</td>\n",
       "      <td>0</td>\n",
       "      <td>1</td>\n",
       "      <td>0</td>\n",
       "      <td>1</td>\n",
       "      <td>may</td>\n",
       "      <td>mon</td>\n",
       "      <td>2</td>\n",
       "      <td>0</td>\n",
       "      <td>nonexistent</td>\n",
       "      <td>0</td>\n",
       "    </tr>\n",
       "    <tr>\n",
       "      <th>4</th>\n",
       "      <td>middle_aged</td>\n",
       "      <td>retired</td>\n",
       "      <td>divorced</td>\n",
       "      <td>university.degree</td>\n",
       "      <td>0</td>\n",
       "      <td>0</td>\n",
       "      <td>0</td>\n",
       "      <td>0</td>\n",
       "      <td>jun</td>\n",
       "      <td>tue</td>\n",
       "      <td>2</td>\n",
       "      <td>0</td>\n",
       "      <td>nonexistent</td>\n",
       "      <td>0</td>\n",
       "    </tr>\n",
       "    <tr>\n",
       "      <th>5</th>\n",
       "      <td>young</td>\n",
       "      <td>admin.</td>\n",
       "      <td>single</td>\n",
       "      <td>university.degree</td>\n",
       "      <td>0</td>\n",
       "      <td>0</td>\n",
       "      <td>0</td>\n",
       "      <td>0</td>\n",
       "      <td>aug</td>\n",
       "      <td>wed</td>\n",
       "      <td>2</td>\n",
       "      <td>0</td>\n",
       "      <td>nonexistent</td>\n",
       "      <td>0</td>\n",
       "    </tr>\n",
       "    <tr>\n",
       "      <th>...</th>\n",
       "      <td>...</td>\n",
       "      <td>...</td>\n",
       "      <td>...</td>\n",
       "      <td>...</td>\n",
       "      <td>...</td>\n",
       "      <td>...</td>\n",
       "      <td>...</td>\n",
       "      <td>...</td>\n",
       "      <td>...</td>\n",
       "      <td>...</td>\n",
       "      <td>...</td>\n",
       "      <td>...</td>\n",
       "      <td>...</td>\n",
       "      <td>...</td>\n",
       "    </tr>\n",
       "    <tr>\n",
       "      <th>32903</th>\n",
       "      <td>middle_aged</td>\n",
       "      <td>technician</td>\n",
       "      <td>married</td>\n",
       "      <td>education.basic</td>\n",
       "      <td>0</td>\n",
       "      <td>0</td>\n",
       "      <td>0</td>\n",
       "      <td>1</td>\n",
       "      <td>may</td>\n",
       "      <td>fri</td>\n",
       "      <td>5</td>\n",
       "      <td>0</td>\n",
       "      <td>nonexistent</td>\n",
       "      <td>0</td>\n",
       "    </tr>\n",
       "    <tr>\n",
       "      <th>32905</th>\n",
       "      <td>young</td>\n",
       "      <td>management</td>\n",
       "      <td>single</td>\n",
       "      <td>university.degree</td>\n",
       "      <td>0</td>\n",
       "      <td>0</td>\n",
       "      <td>0</td>\n",
       "      <td>0</td>\n",
       "      <td>nov</td>\n",
       "      <td>thu</td>\n",
       "      <td>5</td>\n",
       "      <td>1</td>\n",
       "      <td>failure</td>\n",
       "      <td>0</td>\n",
       "    </tr>\n",
       "    <tr>\n",
       "      <th>32906</th>\n",
       "      <td>young_adult</td>\n",
       "      <td>blue-collar</td>\n",
       "      <td>married</td>\n",
       "      <td>high.school</td>\n",
       "      <td>0</td>\n",
       "      <td>1</td>\n",
       "      <td>0</td>\n",
       "      <td>1</td>\n",
       "      <td>jun</td>\n",
       "      <td>mon</td>\n",
       "      <td>3</td>\n",
       "      <td>0</td>\n",
       "      <td>nonexistent</td>\n",
       "      <td>0</td>\n",
       "    </tr>\n",
       "    <tr>\n",
       "      <th>32907</th>\n",
       "      <td>young_adult</td>\n",
       "      <td>technician</td>\n",
       "      <td>married</td>\n",
       "      <td>professional.course</td>\n",
       "      <td>0</td>\n",
       "      <td>1</td>\n",
       "      <td>1</td>\n",
       "      <td>0</td>\n",
       "      <td>aug</td>\n",
       "      <td>mon</td>\n",
       "      <td>1</td>\n",
       "      <td>0</td>\n",
       "      <td>nonexistent</td>\n",
       "      <td>0</td>\n",
       "    </tr>\n",
       "    <tr>\n",
       "      <th>32908</th>\n",
       "      <td>middle_aged</td>\n",
       "      <td>unemployed</td>\n",
       "      <td>married</td>\n",
       "      <td>education.basic</td>\n",
       "      <td>0</td>\n",
       "      <td>0</td>\n",
       "      <td>0</td>\n",
       "      <td>1</td>\n",
       "      <td>jun</td>\n",
       "      <td>mon</td>\n",
       "      <td>2</td>\n",
       "      <td>0</td>\n",
       "      <td>nonexistent</td>\n",
       "      <td>0</td>\n",
       "    </tr>\n",
       "  </tbody>\n",
       "</table>\n",
       "<p>22961 rows × 14 columns</p>\n",
       "</div>"
      ],
      "text/plain": [
       "          bins_age           job   marital            education  default  \\\n",
       "1      young_adult  entrepreneur   married    university.degree        0   \n",
       "2          old_age       retired   married      education.basic        0   \n",
       "3      young_adult        admin.   married    university.degree        0   \n",
       "4      middle_aged       retired  divorced    university.degree        0   \n",
       "5            young        admin.    single    university.degree        0   \n",
       "...            ...           ...       ...                  ...      ...   \n",
       "32903  middle_aged    technician   married      education.basic        0   \n",
       "32905        young    management    single    university.degree        0   \n",
       "32906  young_adult   blue-collar   married          high.school        0   \n",
       "32907  young_adult    technician   married  professional.course        0   \n",
       "32908  middle_aged    unemployed   married      education.basic        0   \n",
       "\n",
       "       housing  loan contact month day_of_week  campaign  previous  \\\n",
       "1            0     0       1   nov         wed         2         1   \n",
       "2            0     0       0   jul         mon         1         0   \n",
       "3            1     0       1   may         mon         2         0   \n",
       "4            0     0       0   jun         tue         2         0   \n",
       "5            0     0       0   aug         wed         2         0   \n",
       "...        ...   ...     ...   ...         ...       ...       ...   \n",
       "32903        0     0       1   may         fri         5         0   \n",
       "32905        0     0       0   nov         thu         5         1   \n",
       "32906        1     0       1   jun         mon         3         0   \n",
       "32907        1     1       0   aug         mon         1         0   \n",
       "32908        0     0       1   jun         mon         2         0   \n",
       "\n",
       "          poutcome  y  \n",
       "1          failure  0  \n",
       "2      nonexistent  1  \n",
       "3      nonexistent  0  \n",
       "4      nonexistent  0  \n",
       "5      nonexistent  0  \n",
       "...            ... ..  \n",
       "32903  nonexistent  0  \n",
       "32905      failure  0  \n",
       "32906  nonexistent  0  \n",
       "32907  nonexistent  0  \n",
       "32908  nonexistent  0  \n",
       "\n",
       "[22961 rows x 14 columns]"
      ]
     },
     "execution_count": 4,
     "metadata": {},
     "output_type": "execute_result"
    }
   ],
   "source": [
    "# initialize Preprocessor\n",
    "data_transformer = DataTransformer(df)\n",
    "\n",
    "# preprocess some data\n",
    "df = data_transformer.clean_and_transform()\n",
    "df"
   ]
  },
  {
   "cell_type": "markdown",
   "id": "b4d60f8141790030",
   "metadata": {},
   "source": [
    "### Model selection"
   ]
  },
  {
   "cell_type": "code",
   "execution_count": 5,
   "id": "9247fbc7-dadc-4bfd-bdee-fe8ea6e995eb",
   "metadata": {},
   "outputs": [],
   "source": [
    "# define the models\n",
    "models = {\n",
    "    'LogisticRegression': LogisticRegression(),\n",
    "    'DecisionTreeClassifier': DecisionTreeClassifier(),\n",
    "    'RandomForestClassifier': RandomForestClassifier(),\n",
    "    'GradientBoostingClassifier': GradientBoostingClassifier(),\n",
    "    # 'SVC': SVC(),\n",
    "    'KNN': KNeighborsClassifier()\n",
    "}"
   ]
  },
  {
   "cell_type": "code",
   "execution_count": 6,
   "id": "d92d0ed1c5959d3c",
   "metadata": {},
   "outputs": [],
   "source": [
    "# Split the data\n",
    "X_train, X_test, y_train, y_test = split_data(df, target='y')"
   ]
  },
  {
   "cell_type": "markdown",
   "id": "e497098006d776db",
   "metadata": {},
   "source": [
    "#### Step 1: Transform data and evaluate models with cross-validation"
   ]
  },
  {
   "cell_type": "code",
   "execution_count": 7,
   "id": "4c7dc26e-1057-4a39-97fa-7d66124bdcf9",
   "metadata": {},
   "outputs": [
    {
     "data": {
      "text/plain": [
       "{'LogisticRegression': {'fit_time_mean': 0.1252307415008545,\n",
       "  'accuracy_mean': 0.6783531074128752,\n",
       "  'f1_mean': 0.33633178537005093,\n",
       "  'roc_auc_mean': 0.7128640966862362},\n",
       " 'DecisionTreeClassifier': {'fit_time_mean': 0.16545233726501465,\n",
       "  'accuracy_mean': 0.8093429654316593,\n",
       "  'f1_mean': 0.2934802036495722,\n",
       "  'roc_auc_mean': 0.5947217044446904},\n",
       " 'RandomForestClassifier': {'fit_time_mean': 2.0183427333831787,\n",
       "  'accuracy_mean': 0.8600831651055734,\n",
       "  'f1_mean': 0.32424774460390576,\n",
       "  'roc_auc_mean': 0.716693063586052},\n",
       " 'GradientBoostingClassifier': {'fit_time_mean': 2.758942461013794,\n",
       "  'accuracy_mean': 0.874129062865285,\n",
       "  'f1_mean': 0.378145642602765,\n",
       "  'roc_auc_mean': 0.7538810850851151},\n",
       " 'KNN': {'fit_time_mean': 0.06063799858093262,\n",
       "  'accuracy_mean': 0.7096585286472324,\n",
       "  'f1_mean': 0.31775968550023,\n",
       "  'roc_auc_mean': 0.6596618015684946}}"
      ]
     },
     "execution_count": 7,
     "metadata": {},
     "output_type": "execute_result"
    }
   ],
   "source": [
    "eval_results = select_model(X_train, y_train, data_transformer, models)\n",
    "eval_results"
   ]
  },
  {
   "cell_type": "code",
   "execution_count": 8,
   "id": "b2f959d9f7897795",
   "metadata": {},
   "outputs": [
    {
     "name": "stdout",
     "output_type": "stream",
     "text": [
      "Best performed model: 'GradientBoostingClassifier'\n"
     ]
    }
   ],
   "source": [
    "# best model based on accuracy mean score\n",
    "best_model_name = max(eval_results, key=lambda model: eval_results[model][\"f1_mean\"])\n",
    "print(f\"Best performed model: '{best_model_name}'\") "
   ]
  },
  {
   "cell_type": "markdown",
   "id": "3700c2394d87607f",
   "metadata": {},
   "source": [
    "#### Step 2: Train the model with the best score"
   ]
  },
  {
   "cell_type": "code",
   "execution_count": 9,
   "id": "01fea790-f7d1-4167-9976-6ba4ebfe1b19",
   "metadata": {},
   "outputs": [
    {
     "name": "stdout",
     "output_type": "stream",
     "text": [
      "CPU times: user 3.81 s, sys: 229 μs, total: 3.81 s\n",
      "Wall time: 3.66 s\n"
     ]
    }
   ],
   "source": [
    "%%time\n",
    "model_pipeline = train_best_model(models,\n",
    "                best_model_name,\n",
    "                data_transformer,\n",
    "                X_train,\n",
    "                y_train)"
   ]
  },
  {
   "cell_type": "markdown",
   "id": "c6664290-8d0d-4ff0-8681-5ae28b658ee7",
   "metadata": {},
   "source": [
    "#### Step 3: Evaluate the model on the test data"
   ]
  },
  {
   "cell_type": "code",
   "execution_count": 10,
   "id": "4cdeace3-2afa-4c45-bd78-bd02248621d9",
   "metadata": {},
   "outputs": [
    {
     "name": "stderr",
     "output_type": "stream",
     "text": [
      "2024-06-04 23:25:05,023 - src.modeling_manager.modeling - INFO - \n",
      "              precision    recall  f1-score   support\n",
      "\n",
      "           0       0.90      0.96      0.93      3995\n",
      "           1       0.55      0.29      0.38       598\n",
      "\n",
      "    accuracy                           0.88      4593\n",
      "   macro avg       0.73      0.63      0.66      4593\n",
      "weighted avg       0.86      0.88      0.86      4593\n",
      "\n"
     ]
    },
    {
     "data": {
      "text/plain": [
       "{'accuracy': 0.8769867189200958,\n",
       " 'balanced_accuracy_score': 0.6285488549650273,\n",
       " 'precision': 0.8556333313964178,\n",
       " 'recall': 0.8769867189200958,\n",
       " 'f1_score': 0.8601874287231749}"
      ]
     },
     "execution_count": 10,
     "metadata": {},
     "output_type": "execute_result"
    }
   ],
   "source": [
    "y_pred = evaluate_model(model_pipeline, X_test, y_test)\n",
    "metrics = calculate_metrics(y_test, y_pred)\n",
    "metrics"
   ]
  },
  {
   "cell_type": "code",
   "execution_count": 11,
   "id": "16c7f7a2-2569-4092-b9ac-8129cf3f7f01",
   "metadata": {},
   "outputs": [
    {
     "data": {
      "image/png": "[encoded data removed]",
      "text/plain": [
       "<Figure size 1000x500 with 1 Axes>"
      ]
     },
     "metadata": {},
     "output_type": "display_data"
    }
   ],
   "source": [
    "def show_roc_curve(y_test, y_pred):\n",
    "    # Generate ROC curve\n",
    "    false_positive_rate, true_positive_rate, _ = roc_curve(y_test, y_pred)\n",
    "    auc_score = roc_auc_score(y_test, y_pred)\n",
    "\n",
    "    # Plot ROC curve\n",
    "    plt.figure(figsize=(10, 5))\n",
    "    plt.subplot(1, 2, 1)\n",
    "    plt.plot(false_positive_rate, true_positive_rate, label=f'ROC Curve area (AUC = {auc_score:.2f})')\n",
    "    plt.plot([0, 1], [0, 1], color='gray', lw=1, linestyle='--')\n",
    "    plt.xlabel('False Positive Rate')\n",
    "    plt.ylabel('True Positive Rate')\n",
    "    plt.title('Receiver Operating Characteristic (ROC) Curve')\n",
    "    plt.legend(loc='lower right')\n",
    "\n",
    "show_roc_curve(y_test, y_pred)"
   ]
  },
  {
   "cell_type": "markdown",
   "id": "04288aee-c216-473c-9ead-6d291d4f217c",
   "metadata": {},
   "source": [
    "#### Step 4: Persist final model"
   ]
  },
  {
   "cell_type": "code",
   "execution_count": 12,
   "id": "2d045b5a-12e3-41dd-944b-dda4b36fed06",
   "metadata": {},
   "outputs": [
    {
     "name": "stderr",
     "output_type": "stream",
     "text": [
      "2024-06-04 23:25:31,072 - src.modeling_manager.modeling - INFO - Final model saved to /home/nataliia/Workspaces/edu_private/user_subscription_prediction/model/trained_model_pipeline.pkl\n"
     ]
    }
   ],
   "source": [
    "save_model(model_pipeline)"
   ]
  },
  {
   "cell_type": "markdown",
   "id": "b96840fa-67d1-4d41-9580-74172e570325",
   "metadata": {},
   "source": [
    "#### Optional Step: Hyperparameter tuning with Optuna\n",
    "_Hyperparameter tuning can take more than 15 minutes depending on the number of trials_"
   ]
  },
  {
   "cell_type": "code",
   "execution_count": 13,
   "id": "a5271d79-cf3d-4f7a-94d8-b7c6911c5043",
   "metadata": {},
   "outputs": [],
   "source": [
    "# define the models again so that they can be initialized with parameters\n",
    "models = {\n",
    "    'LogisticRegression': LogisticRegression,\n",
    "    'DecisionTreeClassifier': DecisionTreeClassifier,\n",
    "    'RandomForestClassifier': RandomForestClassifier,\n",
    "    'GradientBoostingClassifier': GradientBoostingClassifier,\n",
    "    'SVC': SVC,\n",
    "    'KNN': KNeighborsClassifier\n",
    "}\n",
    "\n",
    "# predifine a set of hyperparameters for the models\n",
    "models_params = {\n",
    "    \"LogisticRegression\":  {\n",
    "        'C': [0.01, 0.1], # Regularization parameter, controlling the trade-off between maximizing the margin and minimizing classification error\n",
    "        'solver': [\"liblinear\", \"newton-cholesky\"],\n",
    "        'random_state': 42\n",
    "    },\n",
    "    \"DecisionTreeClassifier\": {\n",
    "        'splitter': [\"best\", \"random\"],\n",
    "        'max_depth':  [1, 4],\n",
    "        'class_weight': [None, \"balanced\"],\n",
    "        'random_state': 42\n",
    "    },\n",
    "    \"RandomForestClassifier\": {\n",
    "        'n_estimators': [100, 500],\n",
    "        'max_depth': [1, 4],\n",
    "        'random_state': 42\n",
    "    },\n",
    "    \"GradientBoostingClassifier\": {\n",
    "        'learning_rate': [0.01, 0.1],\n",
    "        'n_estimators': [100, 200],\n",
    "        'max_depth': [3, 6],\n",
    "        'random_state': 42\n",
    "    },\n",
    "    \"SVC\": {\n",
    "        'C': [0.1, 1.5],\n",
    "        'gamma': [\"scale\", \"auto\"],\n",
    "        'kernel': [\"linear\", \"poly\", \"rbf\"],\n",
    "        'random_state': 42\n",
    "    },\n",
    "    \"KNN\": {\n",
    "        'n_neighbors': [2, 19],\n",
    "        'weights': ['uniform', 'distance'],\n",
    "        'metric': ['l2', 'manhattan', 'cosine']\n",
    "    }\n",
    "}"
   ]
  },
  {
   "cell_type": "code",
   "execution_count": 14,
   "id": "e922868b-0f7b-4029-95cb-be3e87258ecf",
   "metadata": {},
   "outputs": [
    {
     "name": "stderr",
     "output_type": "stream",
     "text": [
      "2024-06-04 23:25:38,902 - src.modeling_manager.model_optimizer - INFO - Initialized Optimizer with model: GradientBoostingClassifier\n",
      "[I 2024-06-04 23:25:39,349] A new study created in RDB with name: no-name-8e1b4633-4c9c-492b-984f-381b7af45455\n",
      "[I 2024-06-04 23:25:52,810] Trial 0 finished with value: 0.33793753165901264 and parameters: {'learning_rate': 0.07079574138506074, 'n_estimators': 191, 'max_depth': 6}. Best is trial 0 with value: 0.33793753165901264.\n",
      "[I 2024-06-04 23:25:58,942] Trial 1 finished with value: 0.3771501169232769 and parameters: {'learning_rate': 0.0703421468373134, 'n_estimators': 145, 'max_depth': 3}. Best is trial 1 with value: 0.3771501169232769.\n",
      "[I 2024-06-04 23:26:05,115] Trial 2 finished with value: 0.3799407517636214 and parameters: {'learning_rate': 0.011836111344364056, 'n_estimators': 149, 'max_depth': 3}. Best is trial 2 with value: 0.3799407517636214.\n",
      "[I 2024-06-04 23:26:16,936] Trial 3 finished with value: 0.35289987628181124 and parameters: {'learning_rate': 0.05461745880817044, 'n_estimators': 200, 'max_depth': 5}. Best is trial 2 with value: 0.3799407517636214.\n",
      "[I 2024-06-04 23:26:23,390] Trial 4 finished with value: 0.39413381957989413 and parameters: {'learning_rate': 0.02296462467924702, 'n_estimators': 114, 'max_depth': 5}. Best is trial 4 with value: 0.39413381957989413.\n",
      "[I 2024-06-04 23:26:34,537] Trial 5 finished with value: 0.3489061746347871 and parameters: {'learning_rate': 0.05347673137707226, 'n_estimators': 167, 'max_depth': 6}. Best is trial 4 with value: 0.39413381957989413.\n",
      "[I 2024-06-04 23:26:41,762] Trial 6 finished with value: 0.34674142884938763 and parameters: {'learning_rate': 0.0879680779949982, 'n_estimators': 129, 'max_depth': 5}. Best is trial 4 with value: 0.39413381957989413.\n",
      "[I 2024-06-04 23:26:48,569] Trial 7 finished with value: 0.3767687146074565 and parameters: {'learning_rate': 0.05976310387539245, 'n_estimators': 179, 'max_depth': 3}. Best is trial 4 with value: 0.39413381957989413.\n",
      "[I 2024-06-04 23:26:56,300] Trial 8 finished with value: 0.41649905827807904 and parameters: {'learning_rate': 0.018444931246126478, 'n_estimators': 121, 'max_depth': 6}. Best is trial 8 with value: 0.41649905827807904.\n",
      "[I 2024-06-04 23:27:02,397] Trial 9 finished with value: 0.39997304187207405 and parameters: {'learning_rate': 0.014952130130408987, 'n_estimators': 132, 'max_depth': 4}. Best is trial 8 with value: 0.41649905827807904.\n",
      "2024-06-04 23:27:02,409 - src.modeling_manager.model_optimizer - INFO - Best hyperparameters: {'learning_rate': 0.018444931246126478, 'n_estimators': 121, 'max_depth': 6}\n"
     ]
    },
    {
     "name": "stdout",
     "output_type": "stream",
     "text": [
      "CPU times: user 11.4 s, sys: 1.16 s, total: 12.6 s\n",
      "Wall time: 1min 31s\n"
     ]
    }
   ],
   "source": [
    "%%time\n",
    "optimizer = Optimizer(best_model_name, models, models_params, n_trials=10)\n",
    "tuned_model_pipeline = optimizer.hyperparameter_tuning(data_transformer, X_train, y_train)\n",
    "\n",
    "# you can observe the optimization process starting optuna dashboard from notebooks/ directory using CLI:\n",
    "# optuna-dashboard sqlite:///db.sqlite3"
   ]
  },
  {
   "cell_type": "code",
   "execution_count": 15,
   "id": "2366779e-6701-4fac-88f3-64c96e0c3fa6",
   "metadata": {},
   "outputs": [
    {
     "name": "stderr",
     "output_type": "stream",
     "text": [
      "2024-06-04 23:27:10,714 - src.modeling_manager.modeling - INFO - \n",
      "              precision    recall  f1-score   support\n",
      "\n",
      "           0       0.91      0.95      0.93      3995\n",
      "           1       0.51      0.36      0.42       598\n",
      "\n",
      "    accuracy                           0.87      4593\n",
      "   macro avg       0.71      0.65      0.67      4593\n",
      "weighted avg       0.86      0.87      0.86      4593\n",
      "\n"
     ]
    },
    {
     "data": {
      "text/plain": [
       "{'accuracy': 0.8708904855214457,\n",
       " 'balanced_accuracy_score': 0.6534830327206667,\n",
       " 'precision': 0.8557401959493759,\n",
       " 'recall': 0.8708904855214457,\n",
       " 'f1_score': 0.8613417220228541}"
      ]
     },
     "execution_count": 15,
     "metadata": {},
     "output_type": "execute_result"
    }
   ],
   "source": [
    "# evaluate the tuned model\n",
    "y_pred = evaluate_model(tuned_model_pipeline, X_test, y_test)\n",
    "metrics = calculate_metrics(y_test, y_pred)\n",
    "metrics"
   ]
  },
  {
   "cell_type": "code",
   "execution_count": 16,
   "id": "9bf558c3-ea6c-42ec-8b51-9590bf170c30",
   "metadata": {},
   "outputs": [
    {
     "data": {
      "image/png": "[encoded data removed]",
      "text/plain": [
       "<Figure size 1000x500 with 1 Axes>"
      ]
     },
     "metadata": {},
     "output_type": "display_data"
    }
   ],
   "source": [
    "show_roc_curve(y_test, y_pred)"
   ]
  },
  {
   "cell_type": "code",
   "execution_count": 17,
   "id": "03c0d4a9-dea5-4449-b225-4ed2a5e37623",
   "metadata": {},
   "outputs": [
    {
     "name": "stderr",
     "output_type": "stream",
     "text": [
      "2024-06-04 23:27:10,875 - src.modeling_manager.modeling - INFO - Final model saved to /home/nataliia/Workspaces/edu_private/user_subscription_prediction/model/trained_model_pipeline_tuned.pkl\n"
     ]
    }
   ],
   "source": [
    "# persist tuned model\n",
    "save_model(tuned_model_pipeline, file_name=\"trained_model_pipeline_tuned.pkl\")"
   ]
  },
  {
   "cell_type": "code",
   "execution_count": null,
   "id": "c1c018bd-ae4b-4882-b838-8651d913c9af",
   "metadata": {},
   "outputs": [],
   "source": []
  },
  {
   "cell_type": "code",
   "execution_count": null,
   "id": "0b542ed5-e490-4562-97e4-10c36eff0cc7",
   "metadata": {},
   "outputs": [],
   "source": []
  }
 ],
 "metadata": {
  "kernelspec": {
   "display_name": "Python 3 (ipykernel)",
   "language": "python",
   "name": "python3"
  },
  "language_info": {
   "codemirror_mode": {
    "name": "ipython",
    "version": 3
   },
   "file_extension": ".py",
   "mimetype": "text/x-python",
   "name": "python",
   "nbconvert_exporter": "python",
   "pygments_lexer": "ipython3",
   "version": "3.11.7"
  }
 },
 "nbformat": 4,
 "nbformat_minor": 5
}
