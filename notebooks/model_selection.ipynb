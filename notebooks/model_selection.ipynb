{
 "cells": [
  {
   "cell_type": "code",
   "execution_count": 1,
   "id": "3326d272f477d5e1",
   "metadata": {},
   "outputs": [],
   "source": [
    "import sys\n",
    "sys.path.append(\"../\")  # go to src directory\n",
    "\n",
    "from src.utils import read_xlsx, create_logging, split_data, calculate_metrics\n",
    "\n",
    "from src.modeling_manager.data_transformer import DataTransformer\n",
    "from src.modeling_manager.modeling import select_model, train_best_model, evaluate_model, save_model\n",
    "from sklearn.metrics import roc_auc_score, roc_curve\n",
    "\n",
    "# classification algorithms\n",
    "from sklearn.linear_model import LogisticRegression\n",
    "from sklearn.tree import DecisionTreeClassifier\n",
    "from sklearn.neighbors import KNeighborsClassifier\n",
    "from sklearn.svm import SVC\n",
    "from sklearn.ensemble import GradientBoostingClassifier, RandomForestClassifier\n",
    "\n",
    "import matplotlib.pyplot as plt\n",
    "%matplotlib inline\n",
    "\n",
    "from src.modeling_manager.model_optimizer import Optimizer"
   ]
  },
  {
   "cell_type": "code",
   "execution_count": 2,
   "id": "32488806-bb02-44b0-a8e5-686895b2018b",
   "metadata": {},
   "outputs": [],
   "source": [
    "create_logging()"
   ]
  },
  {
   "cell_type": "code",
   "execution_count": 3,
   "id": "2774374bcab24e",
   "metadata": {},
   "outputs": [
    {
     "data": {
      "text/html": [
       "<div>\n",
       "<style scoped>\n",
       "    .dataframe tbody tr th:only-of-type {\n",
       "        vertical-align: middle;\n",
       "    }\n",
       "\n",
       "    .dataframe tbody tr th {\n",
       "        vertical-align: top;\n",
       "    }\n",
       "\n",
       "    .dataframe thead th {\n",
       "        text-align: right;\n",
       "    }\n",
       "</style>\n",
       "<table border=\"1\" class=\"dataframe\">\n",
       "  <thead>\n",
       "    <tr style=\"text-align: right;\">\n",
       "      <th></th>\n",
       "      <th>age</th>\n",
       "      <th>job</th>\n",
       "      <th>marital</th>\n",
       "      <th>education</th>\n",
       "      <th>default</th>\n",
       "      <th>housing</th>\n",
       "      <th>loan</th>\n",
       "      <th>contact</th>\n",
       "      <th>month</th>\n",
       "      <th>day_of_week</th>\n",
       "      <th>duration</th>\n",
       "      <th>campaign</th>\n",
       "      <th>previous</th>\n",
       "      <th>poutcome</th>\n",
       "      <th>y</th>\n",
       "    </tr>\n",
       "  </thead>\n",
       "  <tbody>\n",
       "    <tr>\n",
       "      <th>0</th>\n",
       "      <td>49</td>\n",
       "      <td>blue-collar</td>\n",
       "      <td>married</td>\n",
       "      <td>basic.9y</td>\n",
       "      <td>unknown</td>\n",
       "      <td>no</td>\n",
       "      <td>no</td>\n",
       "      <td>cellular</td>\n",
       "      <td>nov</td>\n",
       "      <td>wed</td>\n",
       "      <td>227</td>\n",
       "      <td>4</td>\n",
       "      <td>0</td>\n",
       "      <td>nonexistent</td>\n",
       "      <td>no</td>\n",
       "    </tr>\n",
       "    <tr>\n",
       "      <th>1</th>\n",
       "      <td>37</td>\n",
       "      <td>entrepreneur</td>\n",
       "      <td>married</td>\n",
       "      <td>university.degree</td>\n",
       "      <td>no</td>\n",
       "      <td>no</td>\n",
       "      <td>no</td>\n",
       "      <td>telephone</td>\n",
       "      <td>nov</td>\n",
       "      <td>wed</td>\n",
       "      <td>202</td>\n",
       "      <td>2</td>\n",
       "      <td>1</td>\n",
       "      <td>failure</td>\n",
       "      <td>no</td>\n",
       "    </tr>\n",
       "    <tr>\n",
       "      <th>2</th>\n",
       "      <td>78</td>\n",
       "      <td>retired</td>\n",
       "      <td>married</td>\n",
       "      <td>basic.4y</td>\n",
       "      <td>no</td>\n",
       "      <td>no</td>\n",
       "      <td>no</td>\n",
       "      <td>cellular</td>\n",
       "      <td>jul</td>\n",
       "      <td>mon</td>\n",
       "      <td>1148</td>\n",
       "      <td>1</td>\n",
       "      <td>0</td>\n",
       "      <td>nonexistent</td>\n",
       "      <td>yes</td>\n",
       "    </tr>\n",
       "    <tr>\n",
       "      <th>3</th>\n",
       "      <td>36</td>\n",
       "      <td>admin.</td>\n",
       "      <td>married</td>\n",
       "      <td>university.degree</td>\n",
       "      <td>no</td>\n",
       "      <td>yes</td>\n",
       "      <td>no</td>\n",
       "      <td>telephone</td>\n",
       "      <td>may</td>\n",
       "      <td>mon</td>\n",
       "      <td>120</td>\n",
       "      <td>2</td>\n",
       "      <td>0</td>\n",
       "      <td>nonexistent</td>\n",
       "      <td>no</td>\n",
       "    </tr>\n",
       "    <tr>\n",
       "      <th>4</th>\n",
       "      <td>59</td>\n",
       "      <td>retired</td>\n",
       "      <td>divorced</td>\n",
       "      <td>university.degree</td>\n",
       "      <td>no</td>\n",
       "      <td>no</td>\n",
       "      <td>no</td>\n",
       "      <td>cellular</td>\n",
       "      <td>jun</td>\n",
       "      <td>tue</td>\n",
       "      <td>368</td>\n",
       "      <td>2</td>\n",
       "      <td>0</td>\n",
       "      <td>nonexistent</td>\n",
       "      <td>no</td>\n",
       "    </tr>\n",
       "  </tbody>\n",
       "</table>\n",
       "</div>"
      ],
      "text/plain": [
       "   age           job   marital          education  default housing loan  \\\n",
       "0   49   blue-collar   married           basic.9y  unknown      no   no   \n",
       "1   37  entrepreneur   married  university.degree       no      no   no   \n",
       "2   78       retired   married           basic.4y       no      no   no   \n",
       "3   36        admin.   married  university.degree       no     yes   no   \n",
       "4   59       retired  divorced  university.degree       no      no   no   \n",
       "\n",
       "     contact month day_of_week  duration  campaign  previous     poutcome    y  \n",
       "0   cellular   nov         wed       227         4         0  nonexistent   no  \n",
       "1  telephone   nov         wed       202         2         1      failure   no  \n",
       "2   cellular   jul         mon      1148         1         0  nonexistent  yes  \n",
       "3  telephone   may         mon       120         2         0  nonexistent   no  \n",
       "4   cellular   jun         tue       368         2         0  nonexistent   no  "
      ]
     },
     "execution_count": 3,
     "metadata": {},
     "output_type": "execute_result"
    }
   ],
   "source": [
    "# read the data \n",
    "path_to_train_data = \"../data/train_file.xlsx\"\n",
    "df = read_xlsx(path_to_train_data)\n",
    "df.head(5)"
   ]
  },
  {
   "cell_type": "markdown",
   "id": "d414e218b9ebb842",
   "metadata": {},
   "source": [
    "#### Data preprocessing"
   ]
  },
  {
   "cell_type": "markdown",
   "id": "9d83775a7a033488",
   "metadata": {},
   "source": [
    "**Removing some *features* from the dataset:**\n",
    "* **duration**:\n",
    "* This feature is highly correlated with the target variable \"y\", indicating that longer contact times are associated with a higher probability of subscribing to a fixed-term deposit. However, the duration of a contact is only known after the contact has been completed and the customer has made their decision. For predictive inference in production, where predictions need to be made before the contact occurs, including \"duration\" as a feature is impractical. Therefore, this feature should be excluded from the training data to ensure the model can be effectively used for real-time prediction.\n",
    "\n",
    "* **day_of_week**:\n",
    "* EDA has shown that this feature does not have a significant impact on the customer\"s decision. Given its minimal impact, including it as a feature would not significantly improve the predictive performance of the model. Removing this feature from the training data helps to simplify the model and focus on more important features.\n",
    "  \n",
    "**Dealing with unknown categories:** \n",
    "* Categories labeled as \"unknown\" in features such as \"job\", \"education\", \"default\", \"housing\", and \"loan\" will be removed. These categories do not provide significant predictive value and their removal helps in cleaning the dataset.\n",
    "\n",
    "**Combining basic education categories:**\n",
    "* To simplify the dataset and improve model performance, all basic education categories (\"basic.4y\", \"basic.6y\", \"basic.9y\") are combined into a single, more general category \"education.basic\". This reduces the complexity of the education feature and helps the model generalize better by treating all levels of basic education as equivalent.\n",
    "\n",
    "**Binning age:** \n",
    "* Given the wide distribution of ages in the dataset, this category will be split into four quantile-based bins. This approach groups ages into four equally sized bins, helping to normalize the distribution and potentially improve model performance by reducing the effect of outliers.\n",
    "\n",
    "**Feature Encoding**:\n",
    "* _**Ordinal features**_:\n",
    "  * **age**: Encoded into quantile-based bins and then transformed using OrdinalEncoder.\n",
    "  * **education**: Combined into \"education.basic\" and encoded using OrdinalEncoder.\n",
    "  * **month**: Encoded using OrdinalEncoder to reflect the natural order of months.\n",
    "\n",
    "* _**Categorical features**_:\n",
    "    * **job**: Encoded using OneHotEncoder to create binary columns for each job category.\n",
    "    * **default**, **loan**, **housing**, and for training data **y**: Encoded using binary mapping (e.g., \"yes\" = 1, \"no\" = 0)."
   ]
  },
  {
   "cell_type": "code",
   "execution_count": 4,
   "id": "c7bd6e72992ad6df",
   "metadata": {},
   "outputs": [
    {
     "data": {
      "text/html": [
       "<div>\n",
       "<style scoped>\n",
       "    .dataframe tbody tr th:only-of-type {\n",
       "        vertical-align: middle;\n",
       "    }\n",
       "\n",
       "    .dataframe tbody tr th {\n",
       "        vertical-align: top;\n",
       "    }\n",
       "\n",
       "    .dataframe thead th {\n",
       "        text-align: right;\n",
       "    }\n",
       "</style>\n",
       "<table border=\"1\" class=\"dataframe\">\n",
       "  <thead>\n",
       "    <tr style=\"text-align: right;\">\n",
       "      <th></th>\n",
       "      <th>bins_age</th>\n",
       "      <th>job</th>\n",
       "      <th>marital</th>\n",
       "      <th>education</th>\n",
       "      <th>default</th>\n",
       "      <th>housing</th>\n",
       "      <th>loan</th>\n",
       "      <th>contact</th>\n",
       "      <th>month</th>\n",
       "      <th>campaign</th>\n",
       "      <th>previous</th>\n",
       "      <th>poutcome</th>\n",
       "      <th>y</th>\n",
       "    </tr>\n",
       "  </thead>\n",
       "  <tbody>\n",
       "    <tr>\n",
       "      <th>1</th>\n",
       "      <td>young_adult</td>\n",
       "      <td>entrepreneur</td>\n",
       "      <td>married</td>\n",
       "      <td>university.degree</td>\n",
       "      <td>0</td>\n",
       "      <td>0</td>\n",
       "      <td>0</td>\n",
       "      <td>1</td>\n",
       "      <td>nov</td>\n",
       "      <td>2</td>\n",
       "      <td>1</td>\n",
       "      <td>failure</td>\n",
       "      <td>0</td>\n",
       "    </tr>\n",
       "    <tr>\n",
       "      <th>2</th>\n",
       "      <td>old_age</td>\n",
       "      <td>retired</td>\n",
       "      <td>married</td>\n",
       "      <td>education.basic</td>\n",
       "      <td>0</td>\n",
       "      <td>0</td>\n",
       "      <td>0</td>\n",
       "      <td>0</td>\n",
       "      <td>jul</td>\n",
       "      <td>1</td>\n",
       "      <td>0</td>\n",
       "      <td>nonexistent</td>\n",
       "      <td>1</td>\n",
       "    </tr>\n",
       "    <tr>\n",
       "      <th>3</th>\n",
       "      <td>young_adult</td>\n",
       "      <td>admin.</td>\n",
       "      <td>married</td>\n",
       "      <td>university.degree</td>\n",
       "      <td>0</td>\n",
       "      <td>1</td>\n",
       "      <td>0</td>\n",
       "      <td>1</td>\n",
       "      <td>may</td>\n",
       "      <td>2</td>\n",
       "      <td>0</td>\n",
       "      <td>nonexistent</td>\n",
       "      <td>0</td>\n",
       "    </tr>\n",
       "    <tr>\n",
       "      <th>4</th>\n",
       "      <td>middle_aged</td>\n",
       "      <td>retired</td>\n",
       "      <td>divorced</td>\n",
       "      <td>university.degree</td>\n",
       "      <td>0</td>\n",
       "      <td>0</td>\n",
       "      <td>0</td>\n",
       "      <td>0</td>\n",
       "      <td>jun</td>\n",
       "      <td>2</td>\n",
       "      <td>0</td>\n",
       "      <td>nonexistent</td>\n",
       "      <td>0</td>\n",
       "    </tr>\n",
       "    <tr>\n",
       "      <th>5</th>\n",
       "      <td>young</td>\n",
       "      <td>admin.</td>\n",
       "      <td>single</td>\n",
       "      <td>university.degree</td>\n",
       "      <td>0</td>\n",
       "      <td>0</td>\n",
       "      <td>0</td>\n",
       "      <td>0</td>\n",
       "      <td>aug</td>\n",
       "      <td>2</td>\n",
       "      <td>0</td>\n",
       "      <td>nonexistent</td>\n",
       "      <td>0</td>\n",
       "    </tr>\n",
       "  </tbody>\n",
       "</table>\n",
       "</div>"
      ],
      "text/plain": [
       "      bins_age           job   marital          education  default  housing  \\\n",
       "1  young_adult  entrepreneur   married  university.degree        0        0   \n",
       "2      old_age       retired   married    education.basic        0        0   \n",
       "3  young_adult        admin.   married  university.degree        0        1   \n",
       "4  middle_aged       retired  divorced  university.degree        0        0   \n",
       "5        young        admin.    single  university.degree        0        0   \n",
       "\n",
       "   loan contact month  campaign  previous     poutcome  y  \n",
       "1     0       1   nov         2         1      failure  0  \n",
       "2     0       0   jul         1         0  nonexistent  1  \n",
       "3     0       1   may         2         0  nonexistent  0  \n",
       "4     0       0   jun         2         0  nonexistent  0  \n",
       "5     0       0   aug         2         0  nonexistent  0  "
      ]
     },
     "execution_count": 4,
     "metadata": {},
     "output_type": "execute_result"
    }
   ],
   "source": [
    "# initialize Preprocessor\n",
    "data_transformer = DataTransformer(df)\n",
    "\n",
    "# preprocess some data\n",
    "df = data_transformer.clean_and_transform()\n",
    "df.head()"
   ]
  },
  {
   "cell_type": "markdown",
   "id": "b4d60f8141790030",
   "metadata": {},
   "source": [
    "### Model selection"
   ]
  },
  {
   "cell_type": "code",
   "execution_count": 5,
   "id": "9247fbc7-dadc-4bfd-bdee-fe8ea6e995eb",
   "metadata": {},
   "outputs": [],
   "source": [
    "# define the models\n",
    "models_list = {\n",
    "    'LogisticRegression': LogisticRegression(),\n",
    "    'DecisionTreeClassifier': DecisionTreeClassifier(),\n",
    "    'RandomForestClassifier': RandomForestClassifier(),\n",
    "    'GradientBoostingClassifier': GradientBoostingClassifier(),\n",
    "    # 'SVC': SVC(),\n",
    "    'KNN': KNeighborsClassifier()\n",
    "}"
   ]
  },
  {
   "cell_type": "code",
   "execution_count": 6,
   "id": "d92d0ed1c5959d3c",
   "metadata": {},
   "outputs": [],
   "source": [
    "# Split the data\n",
    "X_train, X_test, y_train, y_test = split_data(df, target='y')"
   ]
  },
  {
   "cell_type": "markdown",
   "id": "e497098006d776db",
   "metadata": {},
   "source": [
    "#### Step 1: Transform data and evaluate models with cross-validation"
   ]
  },
  {
   "cell_type": "code",
   "execution_count": 7,
   "id": "4c7dc26e-1057-4a39-97fa-7d66124bdcf9",
   "metadata": {},
   "outputs": [
    {
     "data": {
      "text/plain": [
       "{'LogisticRegression': {'fit_time_mean': 0.2000645637512207,\n",
       "  'accuracy_mean': 0.6700894588123323,\n",
       "  'f1_mean': 0.35478285559085876,\n",
       "  'roc_auc_mean': 0.7157763663418537},\n",
       " 'DecisionTreeClassifier': {'fit_time_mean': 0.13986706733703613,\n",
       "  'accuracy_mean': 0.8110835876749662,\n",
       "  'f1_mean': 0.2913016900478348,\n",
       "  'roc_auc_mean': 0.590113617088476},\n",
       " 'RandomForestClassifier': {'fit_time_mean': 1.761321449279785,\n",
       "  'accuracy_mean': 0.8391168141389445,\n",
       "  'f1_mean': 0.32592098892725385,\n",
       "  'roc_auc_mean': 0.6927122466731379},\n",
       " 'GradientBoostingClassifier': {'fit_time_mean': 2.2348794460296633,\n",
       "  'accuracy_mean': 0.8611305135755899,\n",
       "  'f1_mean': 0.40340776932704336,\n",
       "  'roc_auc_mean': 0.7517627788314586},\n",
       " 'KNN': {'fit_time_mean': 0.05207338333129883,\n",
       "  'accuracy_mean': 0.7294030133604694,\n",
       "  'f1_mean': 0.3406370825524482,\n",
       "  'roc_auc_mean': 0.6631289225949921}}"
      ]
     },
     "execution_count": 7,
     "metadata": {},
     "output_type": "execute_result"
    }
   ],
   "source": [
    "eval_results = select_model(X_train, y_train, data_transformer, models_list)\n",
    "eval_results"
   ]
  },
  {
   "cell_type": "code",
   "execution_count": 8,
   "id": "b2f959d9f7897795",
   "metadata": {},
   "outputs": [
    {
     "name": "stdout",
     "output_type": "stream",
     "text": [
      "Best performed model: 'GradientBoostingClassifier'\n"
     ]
    }
   ],
   "source": [
    "# best model based on accuracy mean score\n",
    "best_model_name = max(eval_results, key=lambda model: eval_results[model][\"f1_mean\"])\n",
    "print(f\"Best performed model: '{best_model_name}'\") "
   ]
  },
  {
   "cell_type": "markdown",
   "id": "3700c2394d87607f",
   "metadata": {},
   "source": [
    "#### Step 2: Train the model with the best score"
   ]
  },
  {
   "cell_type": "code",
   "execution_count": 9,
   "id": "01fea790-f7d1-4167-9976-6ba4ebfe1b19",
   "metadata": {},
   "outputs": [
    {
     "name": "stdout",
     "output_type": "stream",
     "text": [
      "CPU times: user 2.91 s, sys: 5.7 ms, total: 2.91 s\n",
      "Wall time: 2.8 s\n"
     ]
    }
   ],
   "source": [
    "%%time\n",
    "model_pipeline = train_best_model(models_list,\n",
    "                best_model_name,\n",
    "                data_transformer,\n",
    "                X_train,\n",
    "                y_train)"
   ]
  },
  {
   "cell_type": "markdown",
   "id": "c6664290-8d0d-4ff0-8681-5ae28b658ee7",
   "metadata": {},
   "source": [
    "#### Step 3: Evaluate the model on the test data"
   ]
  },
  {
   "cell_type": "code",
   "execution_count": 10,
   "id": "4cdeace3-2afa-4c45-bd78-bd02248621d9",
   "metadata": {},
   "outputs": [
    {
     "name": "stderr",
     "output_type": "stream",
     "text": [
      "2024-06-04 18:11:44,239 - src.modeling - INFO - \n",
      "              precision    recall  f1-score   support\n",
      "\n",
      "           0       0.89      0.95      0.92      3640\n",
      "           1       0.48      0.29      0.36       596\n",
      "\n",
      "    accuracy                           0.86      4236\n",
      "   macro avg       0.68      0.62      0.64      4236\n",
      "weighted avg       0.83      0.86      0.84      4236\n",
      "\n"
     ]
    },
    {
     "data": {
      "text/plain": [
       "{'accuracy': 0.8557601510859302,\n",
       " 'balanced_accuracy_score': 0.6179069252894756,\n",
       " 'precision': 0.8325460019462294,\n",
       " 'recall': 0.8557601510859302,\n",
       " 'f1_score': 0.8399658265671016}"
      ]
     },
     "execution_count": 10,
     "metadata": {},
     "output_type": "execute_result"
    }
   ],
   "source": [
    "y_pred = evaluate_model(model_pipeline, X_test, y_test)\n",
    "metrics = calculate_metrics(y_test, y_pred)\n",
    "metrics"
   ]
  },
  {
   "cell_type": "code",
   "execution_count": 11,
   "id": "16c7f7a2-2569-4092-b9ac-8129cf3f7f01",
   "metadata": {},
   "outputs": [
    {
     "data": {
      "image/png": "[encoded data removed]",
      "text/plain": [
       "<Figure size 1000x500 with 1 Axes>"
      ]
     },
     "metadata": {},
     "output_type": "display_data"
    }
   ],
   "source": [
    "def show_roc_curve(y_test, y_pred):\n",
    "    # Generate ROC curve\n",
    "    false_positive_rate, true_positive_rate, _ = roc_curve(y_test, y_pred)\n",
    "    auc_score = roc_auc_score(y_test, y_pred)\n",
    "\n",
    "    # Plot ROC curve\n",
    "    plt.figure(figsize=(10, 5))\n",
    "    plt.subplot(1, 2, 1)\n",
    "    plt.plot(false_positive_rate, true_positive_rate, label=f'ROC Curve area (AUC = {auc_score:.2f})')\n",
    "    plt.plot([0, 1], [0, 1], color='gray', lw=1, linestyle='--')\n",
    "    plt.xlabel('False Positive Rate')\n",
    "    plt.ylabel('True Positive Rate')\n",
    "    plt.title('Receiver Operating Characteristic (ROC) Curve')\n",
    "    plt.legend(loc='lower right')\n",
    "\n",
    "show_roc_curve(y_test, y_pred)"
   ]
  },
  {
   "cell_type": "markdown",
   "id": "04288aee-c216-473c-9ead-6d291d4f217c",
   "metadata": {},
   "source": [
    "#### Step 4: Persist final model"
   ]
  },
  {
   "cell_type": "code",
   "execution_count": 12,
   "id": "2d045b5a-12e3-41dd-944b-dda4b36fed06",
   "metadata": {},
   "outputs": [
    {
     "name": "stderr",
     "output_type": "stream",
     "text": [
      "2024-06-04 18:11:44,400 - src.modeling - INFO - Final model saved to /home/nataliia/Workspaces/edu_private/user_behaviour_prediction/model/trained_model_pipeline.pkl\n"
     ]
    }
   ],
   "source": [
    "save_model(model_pipeline)"
   ]
  },
  {
   "cell_type": "markdown",
   "id": "b96840fa-67d1-4d41-9580-74172e570325",
   "metadata": {},
   "source": [
    "#### Optional Step: Hyperparameter tuning with Optuna\n",
    "_Hyperparameter tuning can take more than 15 minutes depending on the number of trials_"
   ]
  },
  {
   "cell_type": "code",
   "execution_count": 13,
   "id": "a5271d79-cf3d-4f7a-94d8-b7c6911c5043",
   "metadata": {},
   "outputs": [],
   "source": [
    "# define the models again so that they can be initialized with parameters\n",
    "models_list = {\n",
    "    'LogisticRegression': LogisticRegression,\n",
    "    'DecisionTreeClassifier': DecisionTreeClassifier,\n",
    "    'RandomForestClassifier': RandomForestClassifier,\n",
    "    'GradientBoostingClassifier': GradientBoostingClassifier,\n",
    "    'SVC': SVC,\n",
    "    'KNN': KNeighborsClassifier\n",
    "}\n",
    "\n",
    "# predifine a set of hyperparameters for the models\n",
    "models_params = {\n",
    "    \"LogisticRegression\":  {\n",
    "        'C': [0.01, 0.1], # Regularization parameter, controlling the trade-off between maximizing the margin and minimizing classification error\n",
    "        'solver': [\"liblinear\", \"newton-cholesky\"],\n",
    "        'random_state': 42\n",
    "    },\n",
    "    \"DecisionTreeClassifier\": {\n",
    "        'splitter': [\"best\", \"random\"],\n",
    "        'max_depth':  [1, 4],\n",
    "        'class_weight': [None, \"balanced\"],\n",
    "        'random_state': 42\n",
    "    },\n",
    "    \"RandomForestClassifier\": {\n",
    "        'n_estimators': [100, 500],\n",
    "        'max_depth': [1, 4],\n",
    "        'random_state': 42\n",
    "    },\n",
    "    \"GradientBoostingClassifier\": {\n",
    "        'learning_rate': [0.01, 0.1],\n",
    "        'n_estimators': [100, 200],\n",
    "        'max_depth': [3, 6],\n",
    "        'random_state': 42\n",
    "    },\n",
    "    \"SVC\": {\n",
    "        'C': [0.1, 1.5],\n",
    "        'gamma': [\"scale\", \"auto\"],\n",
    "        'kernel': [\"linear\", \"poly\", \"rbf\"],\n",
    "        'random_state': 42\n",
    "    },\n",
    "    \"KNN\": {\n",
    "        'n_neighbors': [2, 19],\n",
    "        'weights': ['uniform', 'distance'],\n",
    "        'metric': ['l2', 'manhattan', 'cosine']\n",
    "    }\n",
    "}"
   ]
  },
  {
   "cell_type": "code",
   "execution_count": 14,
   "id": "e922868b-0f7b-4029-95cb-be3e87258ecf",
   "metadata": {},
   "outputs": [
    {
     "name": "stderr",
     "output_type": "stream",
     "text": [
      "2024-06-04 18:11:44,419 - src.model_optimizer - INFO - Initialized Optimizer with model: GradientBoostingClassifier\n",
      "[I 2024-06-04 18:11:44,831] A new study created in RDB with name: no-name-a69610d9-dcb4-483d-8ce8-37b87861bff8\n",
      "[I 2024-06-04 18:11:56,117] Trial 0 finished with value: 0.3767542927469074 and parameters: {'learning_rate': 0.05811926944365457, 'n_estimators': 179, 'max_depth': 6}. Best is trial 0 with value: 0.3767542927469074.\n",
      "[I 2024-06-04 18:12:00,252] Trial 1 finished with value: 0.4065134045320251 and parameters: {'learning_rate': 0.08321544754422203, 'n_estimators': 102, 'max_depth': 3}. Best is trial 1 with value: 0.4065134045320251.\n",
      "[I 2024-06-04 18:12:06,600] Trial 2 finished with value: 0.391566858331024 and parameters: {'learning_rate': 0.07593721120818275, 'n_estimators': 140, 'max_depth': 4}. Best is trial 1 with value: 0.4065134045320251.\n",
      "[I 2024-06-04 18:12:10,442] Trial 3 finished with value: 0.40584524960641916 and parameters: {'learning_rate': 0.06430929971702136, 'n_estimators': 100, 'max_depth': 3}. Best is trial 1 with value: 0.4065134045320251.\n",
      "[I 2024-06-04 18:12:16,388] Trial 4 finished with value: 0.4103112815435521 and parameters: {'learning_rate': 0.016432646401208482, 'n_estimators': 152, 'max_depth': 4}. Best is trial 4 with value: 0.4103112815435521.\n",
      "[I 2024-06-04 18:12:23,191] Trial 5 finished with value: 0.39263029492082585 and parameters: {'learning_rate': 0.0543274966547007, 'n_estimators': 125, 'max_depth': 6}. Best is trial 4 with value: 0.4103112815435521.\n",
      "[I 2024-06-04 18:12:32,370] Trial 6 finished with value: 0.37043961875329806 and parameters: {'learning_rate': 0.08079355356453655, 'n_estimators': 178, 'max_depth': 5}. Best is trial 4 with value: 0.4103112815435521.\n",
      "[I 2024-06-04 18:12:39,570] Trial 7 finished with value: 0.38816938202582874 and parameters: {'learning_rate': 0.05852174175698165, 'n_estimators': 126, 'max_depth': 6}. Best is trial 4 with value: 0.4103112815435521.\n",
      "[I 2024-06-04 18:12:46,601] Trial 8 finished with value: 0.38079769498255056 and parameters: {'learning_rate': 0.08419721461113354, 'n_estimators': 173, 'max_depth': 4}. Best is trial 4 with value: 0.4103112815435521.\n",
      "[I 2024-06-04 18:12:52,108] Trial 9 finished with value: 0.4054787378786453 and parameters: {'learning_rate': 0.05415175357608198, 'n_estimators': 168, 'max_depth': 3}. Best is trial 4 with value: 0.4103112815435521.\n",
      "[I 2024-06-04 18:13:01,484] Trial 10 finished with value: 0.41422011898449906 and parameters: {'learning_rate': 0.013543147731565584, 'n_estimators': 199, 'max_depth': 5}. Best is trial 10 with value: 0.41422011898449906.\n",
      "[I 2024-06-04 18:13:11,382] Trial 11 finished with value: 0.4123449259289512 and parameters: {'learning_rate': 0.01029436938262952, 'n_estimators': 193, 'max_depth': 5}. Best is trial 10 with value: 0.41422011898449906.\n",
      "[I 2024-06-04 18:13:20,783] Trial 12 finished with value: 0.41228621530263 and parameters: {'learning_rate': 0.010080755559479208, 'n_estimators': 199, 'max_depth': 5}. Best is trial 10 with value: 0.41422011898449906.\n",
      "[I 2024-06-04 18:13:31,183] Trial 13 finished with value: 0.399230108626306 and parameters: {'learning_rate': 0.02944954224926974, 'n_estimators': 195, 'max_depth': 5}. Best is trial 10 with value: 0.41422011898449906.\n",
      "[I 2024-06-04 18:13:40,385] Trial 14 finished with value: 0.3989929256758567 and parameters: {'learning_rate': 0.032076145269171574, 'n_estimators': 189, 'max_depth': 5}. Best is trial 10 with value: 0.41422011898449906.\n",
      "[I 2024-06-04 18:13:48,540] Trial 15 finished with value: 0.4030725889951629 and parameters: {'learning_rate': 0.02819636086888913, 'n_estimators': 161, 'max_depth': 5}. Best is trial 10 with value: 0.41422011898449906.\n",
      "[I 2024-06-04 18:13:57,498] Trial 16 finished with value: 0.3966201911474385 and parameters: {'learning_rate': 0.04109633498330836, 'n_estimators': 185, 'max_depth': 4}. Best is trial 10 with value: 0.41422011898449906.\n",
      "[I 2024-06-04 18:14:09,131] Trial 17 finished with value: 0.3578296329978601 and parameters: {'learning_rate': 0.099179596543342, 'n_estimators': 193, 'max_depth': 6}. Best is trial 10 with value: 0.41422011898449906.\n",
      "[I 2024-06-04 18:14:19,848] Trial 18 finished with value: 0.4064248002623482 and parameters: {'learning_rate': 0.01887643811009382, 'n_estimators': 200, 'max_depth': 5}. Best is trial 10 with value: 0.41422011898449906.\n",
      "[I 2024-06-04 18:14:26,376] Trial 19 finished with value: 0.40938693760642364 and parameters: {'learning_rate': 0.04084830941800095, 'n_estimators': 161, 'max_depth': 4}. Best is trial 10 with value: 0.41422011898449906.\n",
      "[I 2024-06-04 18:14:37,670] Trial 20 finished with value: 0.41900796377906824 and parameters: {'learning_rate': 0.010672083251165362, 'n_estimators': 186, 'max_depth': 6}. Best is trial 20 with value: 0.41900796377906824.\n",
      "[I 2024-06-04 18:14:48,612] Trial 21 finished with value: 0.4110455368137834 and parameters: {'learning_rate': 0.018894097249902004, 'n_estimators': 185, 'max_depth': 6}. Best is trial 20 with value: 0.41900796377906824.\n",
      "[I 2024-06-04 18:14:58,015] Trial 22 finished with value: 0.417590876737862 and parameters: {'learning_rate': 0.011039771373842412, 'n_estimators': 186, 'max_depth': 6}. Best is trial 20 with value: 0.41900796377906824.\n",
      "[I 2024-06-04 18:15:07,258] Trial 23 finished with value: 0.41163672775753984 and parameters: {'learning_rate': 0.023778685297597434, 'n_estimators': 181, 'max_depth': 6}. Best is trial 20 with value: 0.41900796377906824.\n",
      "[I 2024-06-04 18:15:16,284] Trial 24 finished with value: 0.3957230360211885 and parameters: {'learning_rate': 0.0404435585259917, 'n_estimators': 172, 'max_depth': 6}. Best is trial 20 with value: 0.41900796377906824.\n",
      "[I 2024-06-04 18:15:25,166] Trial 25 finished with value: 0.4212421922641326 and parameters: {'learning_rate': 0.014925243679513596, 'n_estimators': 164, 'max_depth': 6}. Best is trial 25 with value: 0.4212421922641326.\n",
      "[I 2024-06-04 18:15:33,189] Trial 26 finished with value: 0.41975434448817805 and parameters: {'learning_rate': 0.02165745651458585, 'n_estimators': 148, 'max_depth': 6}. Best is trial 25 with value: 0.4212421922641326.\n",
      "[I 2024-06-04 18:15:40,948] Trial 27 finished with value: 0.40350222629058285 and parameters: {'learning_rate': 0.03593985633896557, 'n_estimators': 146, 'max_depth': 6}. Best is trial 25 with value: 0.4212421922641326.\n",
      "[I 2024-06-04 18:15:47,850] Trial 28 finished with value: 0.41681428598590997 and parameters: {'learning_rate': 0.023723255961488526, 'n_estimators': 135, 'max_depth': 6}. Best is trial 25 with value: 0.4212421922641326.\n",
      "[I 2024-06-04 18:15:56,047] Trial 29 finished with value: 0.41007687801598136 and parameters: {'learning_rate': 0.02304055423936443, 'n_estimators': 156, 'max_depth': 6}. Best is trial 25 with value: 0.4212421922641326.\n",
      "[I 2024-06-04 18:16:04,407] Trial 30 finished with value: 0.3896046146520681 and parameters: {'learning_rate': 0.04897883853069693, 'n_estimators': 163, 'max_depth': 6}. Best is trial 25 with value: 0.4212421922641326.\n",
      "[I 2024-06-04 18:16:11,810] Trial 31 finished with value: 0.416009995119238 and parameters: {'learning_rate': 0.01604702133662474, 'n_estimators': 146, 'max_depth': 6}. Best is trial 25 with value: 0.4212421922641326.\n",
      "[I 2024-06-04 18:16:21,467] Trial 32 finished with value: 0.4085766073133216 and parameters: {'learning_rate': 0.024201708495854925, 'n_estimators': 177, 'max_depth': 6}. Best is trial 25 with value: 0.4212421922641326.\n",
      "[I 2024-06-04 18:16:28,231] Trial 33 finished with value: 0.41449447691732433 and parameters: {'learning_rate': 0.010140168459058923, 'n_estimators': 133, 'max_depth': 6}. Best is trial 25 with value: 0.4212421922641326.\n",
      "[I 2024-06-04 18:16:34,022] Trial 34 finished with value: 0.4192224576798364 and parameters: {'learning_rate': 0.019580507614046855, 'n_estimators': 113, 'max_depth': 6}. Best is trial 25 with value: 0.4212421922641326.\n",
      "[I 2024-06-04 18:16:40,202] Trial 35 finished with value: 0.4218227183381276 and parameters: {'learning_rate': 0.019424496569164, 'n_estimators': 115, 'max_depth': 6}. Best is trial 35 with value: 0.4218227183381276.\n",
      "[I 2024-06-04 18:16:46,113] Trial 36 finished with value: 0.41027677844973026 and parameters: {'learning_rate': 0.033572697650537234, 'n_estimators': 110, 'max_depth': 6}. Best is trial 35 with value: 0.4218227183381276.\n",
      "[I 2024-06-04 18:16:51,200] Trial 37 finished with value: 0.40622221517397544 and parameters: {'learning_rate': 0.01920561594885649, 'n_estimators': 109, 'max_depth': 5}. Best is trial 35 with value: 0.4218227183381276.\n",
      "[I 2024-06-04 18:16:58,477] Trial 38 finished with value: 0.4148087937470894 and parameters: {'learning_rate': 0.02852823023522548, 'n_estimators': 115, 'max_depth': 6}. Best is trial 35 with value: 0.4218227183381276.\n",
      "[I 2024-06-04 18:17:05,371] Trial 39 finished with value: 0.3876616502331002 and parameters: {'learning_rate': 0.06547287758735751, 'n_estimators': 122, 'max_depth': 6}. Best is trial 35 with value: 0.4218227183381276.\n",
      "[I 2024-06-04 18:17:09,108] Trial 40 finished with value: 0.40306674270740733 and parameters: {'learning_rate': 0.03608392892817304, 'n_estimators': 101, 'max_depth': 3}. Best is trial 35 with value: 0.4218227183381276.\n",
      "[I 2024-06-04 18:17:15,613] Trial 41 finished with value: 0.42177152729880635 and parameters: {'learning_rate': 0.016933174064937863, 'n_estimators': 118, 'max_depth': 6}. Best is trial 35 with value: 0.4218227183381276.\n",
      "[I 2024-06-04 18:17:22,438] Trial 42 finished with value: 0.4218338599745321 and parameters: {'learning_rate': 0.017416092220752168, 'n_estimators': 119, 'max_depth': 6}. Best is trial 42 with value: 0.4218338599745321.\n",
      "[I 2024-06-04 18:17:29,653] Trial 43 finished with value: 0.41799067697273873 and parameters: {'learning_rate': 0.017167832137340546, 'n_estimators': 123, 'max_depth': 6}. Best is trial 42 with value: 0.4218338599745321.\n",
      "[I 2024-06-04 18:17:36,234] Trial 44 finished with value: 0.4212683246290284 and parameters: {'learning_rate': 0.015546685589149968, 'n_estimators': 118, 'max_depth': 6}. Best is trial 42 with value: 0.4218338599745321.\n",
      "[I 2024-06-04 18:17:41,780] Trial 45 finished with value: 0.41205046336907375 and parameters: {'learning_rate': 0.015347097579737231, 'n_estimators': 118, 'max_depth': 5}. Best is trial 42 with value: 0.4218338599745321.\n",
      "[I 2024-06-04 18:17:47,804] Trial 46 finished with value: 0.41527552243611154 and parameters: {'learning_rate': 0.028000228486834124, 'n_estimators': 106, 'max_depth': 6}. Best is trial 42 with value: 0.4218338599745321.\n",
      "[I 2024-06-04 18:17:55,639] Trial 47 finished with value: 0.407486771626602 and parameters: {'learning_rate': 0.02607923184156933, 'n_estimators': 133, 'max_depth': 5}. Best is trial 42 with value: 0.4218338599745321.\n",
      "[I 2024-06-04 18:18:03,731] Trial 48 finished with value: 0.4190509828736693 and parameters: {'learning_rate': 0.014647007116702892, 'n_estimators': 128, 'max_depth': 6}. Best is trial 42 with value: 0.4218338599745321.\n",
      "[I 2024-06-04 18:18:10,703] Trial 49 finished with value: 0.3926703801284478 and parameters: {'learning_rate': 0.0487228625975762, 'n_estimators': 119, 'max_depth': 5}. Best is trial 42 with value: 0.4218338599745321.\n",
      "[I 2024-06-04 18:18:19,903] Trial 50 finished with value: 0.38120147234372787 and parameters: {'learning_rate': 0.07316545655958985, 'n_estimators': 140, 'max_depth': 6}. Best is trial 42 with value: 0.4218338599745321.\n",
      "[I 2024-06-04 18:18:26,742] Trial 51 finished with value: 0.4127006283185552 and parameters: {'learning_rate': 0.021568497171671638, 'n_estimators': 128, 'max_depth': 6}. Best is trial 42 with value: 0.4218338599745321.\n",
      "[I 2024-06-04 18:18:32,627] Trial 52 finished with value: 0.42347742785652615 and parameters: {'learning_rate': 0.014028496978293177, 'n_estimators': 106, 'max_depth': 6}. Best is trial 52 with value: 0.42347742785652615.\n",
      "[I 2024-06-04 18:18:38,514] Trial 53 finished with value: 0.41874880065318776 and parameters: {'learning_rate': 0.014019695308703398, 'n_estimators': 104, 'max_depth': 6}. Best is trial 52 with value: 0.42347742785652615.\n",
      "[I 2024-06-04 18:18:45,576] Trial 54 finished with value: 0.4187150939226945 and parameters: {'learning_rate': 0.01343275074904969, 'n_estimators': 113, 'max_depth': 6}. Best is trial 52 with value: 0.42347742785652615.\n",
      "[I 2024-06-04 18:18:52,265] Trial 55 finished with value: 0.4148115540813679 and parameters: {'learning_rate': 0.030606587247834494, 'n_estimators': 108, 'max_depth': 6}. Best is trial 52 with value: 0.42347742785652615.\n",
      "[I 2024-06-04 18:18:57,080] Trial 56 finished with value: 0.3864376657188647 and parameters: {'learning_rate': 0.09421622841260865, 'n_estimators': 117, 'max_depth': 4}. Best is trial 52 with value: 0.42347742785652615.\n",
      "[I 2024-06-04 18:19:04,743] Trial 57 finished with value: 0.4230508600619397 and parameters: {'learning_rate': 0.017188249562812903, 'n_estimators': 121, 'max_depth': 6}. Best is trial 52 with value: 0.42347742785652615.\n",
      "[I 2024-06-04 18:19:10,872] Trial 58 finished with value: 0.41535626985502105 and parameters: {'learning_rate': 0.02617791436330579, 'n_estimators': 120, 'max_depth': 5}. Best is trial 52 with value: 0.42347742785652615.\n",
      "[I 2024-06-04 18:19:17,561] Trial 59 finished with value: 0.4183388059364028 and parameters: {'learning_rate': 0.020132810931368574, 'n_estimators': 111, 'max_depth': 6}. Best is trial 52 with value: 0.42347742785652615.\n",
      "[I 2024-06-04 18:19:23,968] Trial 60 finished with value: 0.41372270106252207 and parameters: {'learning_rate': 0.01285461032016853, 'n_estimators': 126, 'max_depth': 5}. Best is trial 52 with value: 0.42347742785652615.\n",
      "[I 2024-06-04 18:19:30,973] Trial 61 finished with value: 0.4228523361887537 and parameters: {'learning_rate': 0.016702300478327423, 'n_estimators': 115, 'max_depth': 6}. Best is trial 52 with value: 0.42347742785652615.\n",
      "[I 2024-06-04 18:19:36,768] Trial 62 finished with value: 0.42112885157640917 and parameters: {'learning_rate': 0.017731139086123705, 'n_estimators': 105, 'max_depth': 6}. Best is trial 52 with value: 0.42347742785652615.\n",
      "[I 2024-06-04 18:19:43,236] Trial 63 finished with value: 0.42103027942016047 and parameters: {'learning_rate': 0.018143853599172734, 'n_estimators': 115, 'max_depth': 6}. Best is trial 52 with value: 0.42347742785652615.\n",
      "[I 2024-06-04 18:19:50,231] Trial 64 finished with value: 0.42538234531047053 and parameters: {'learning_rate': 0.025363491828927963, 'n_estimators': 100, 'max_depth': 6}. Best is trial 64 with value: 0.42538234531047053.\n",
      "[I 2024-06-04 18:19:57,297] Trial 65 finished with value: 0.41867910350794074 and parameters: {'learning_rate': 0.026134501460139153, 'n_estimators': 100, 'max_depth': 6}. Best is trial 64 with value: 0.42538234531047053.\n",
      "[I 2024-06-04 18:20:03,296] Trial 66 finished with value: 0.4206210941648794 and parameters: {'learning_rate': 0.021754709805318295, 'n_estimators': 104, 'max_depth': 6}. Best is trial 64 with value: 0.42538234531047053.\n",
      "[I 2024-06-04 18:20:09,291] Trial 67 finished with value: 0.4114574835554629 and parameters: {'learning_rate': 0.032044399357098935, 'n_estimators': 107, 'max_depth': 6}. Best is trial 64 with value: 0.42538234531047053.\n",
      "[I 2024-06-04 18:20:17,111] Trial 68 finished with value: 0.4257986475799944 and parameters: {'learning_rate': 0.013018859885262388, 'n_estimators': 123, 'max_depth': 6}. Best is trial 68 with value: 0.4257986475799944.\n",
      "[I 2024-06-04 18:20:24,201] Trial 69 finished with value: 0.4208229626586494 and parameters: {'learning_rate': 0.01213946477903063, 'n_estimators': 123, 'max_depth': 6}. Best is trial 68 with value: 0.4257986475799944.\n",
      "[I 2024-06-04 18:20:32,314] Trial 70 finished with value: 0.423396537994394 and parameters: {'learning_rate': 0.02392930582107318, 'n_estimators': 112, 'max_depth': 6}. Best is trial 68 with value: 0.4257986475799944.\n",
      "[I 2024-06-04 18:20:39,033] Trial 71 finished with value: 0.4213740727579042 and parameters: {'learning_rate': 0.02119192178858946, 'n_estimators': 112, 'max_depth': 6}. Best is trial 68 with value: 0.4257986475799944.\n",
      "[I 2024-06-04 18:20:46,207] Trial 72 finished with value: 0.42016541165722554 and parameters: {'learning_rate': 0.025534536671960748, 'n_estimators': 115, 'max_depth': 6}. Best is trial 68 with value: 0.4257986475799944.\n",
      "[I 2024-06-04 18:20:51,840] Trial 73 finished with value: 0.4108442853354128 and parameters: {'learning_rate': 0.01009701387881358, 'n_estimators': 104, 'max_depth': 6}. Best is trial 68 with value: 0.4257986475799944.\n",
      "[I 2024-06-04 18:20:59,140] Trial 74 finished with value: 0.41848511125952115 and parameters: {'learning_rate': 0.02377064210070912, 'n_estimators': 109, 'max_depth': 6}. Best is trial 68 with value: 0.4257986475799944.\n",
      "[I 2024-06-04 18:21:07,644] Trial 75 finished with value: 0.4093662900927363 and parameters: {'learning_rate': 0.03469739433161369, 'n_estimators': 129, 'max_depth': 6}. Best is trial 68 with value: 0.4257986475799944.\n",
      "[I 2024-06-04 18:21:11,639] Trial 76 finished with value: 0.4045407950233538 and parameters: {'learning_rate': 0.03870606520744134, 'n_estimators': 121, 'max_depth': 3}. Best is trial 68 with value: 0.4257986475799944.\n",
      "[I 2024-06-04 18:21:16,992] Trial 77 finished with value: 0.41838506113769797 and parameters: {'learning_rate': 0.012790245994150504, 'n_estimators': 102, 'max_depth': 6}. Best is trial 68 with value: 0.4257986475799944.\n",
      "[I 2024-06-04 18:21:23,579] Trial 78 finished with value: 0.41922182841275335 and parameters: {'learning_rate': 0.01922610517185101, 'n_estimators': 114, 'max_depth': 6}. Best is trial 68 with value: 0.4257986475799944.\n",
      "[I 2024-06-04 18:21:32,146] Trial 79 finished with value: 0.41178936041089786 and parameters: {'learning_rate': 0.02842159633788443, 'n_estimators': 125, 'max_depth': 6}. Best is trial 68 with value: 0.4257986475799944.\n",
      "[I 2024-06-04 18:21:36,737] Trial 80 finished with value: 0.3997107688664685 and parameters: {'learning_rate': 0.016669748020001766, 'n_estimators': 111, 'max_depth': 4}. Best is trial 68 with value: 0.4257986475799944.\n",
      "[I 2024-06-04 18:21:43,152] Trial 81 finished with value: 0.42282396621219603 and parameters: {'learning_rate': 0.016953964261784544, 'n_estimators': 116, 'max_depth': 6}. Best is trial 68 with value: 0.4257986475799944.\n",
      "[I 2024-06-04 18:21:50,630] Trial 82 finished with value: 0.41924656766953194 and parameters: {'learning_rate': 0.022166609229082163, 'n_estimators': 116, 'max_depth': 6}. Best is trial 68 with value: 0.4257986475799944.\n",
      "[I 2024-06-04 18:21:57,836] Trial 83 finished with value: 0.41606276081194443 and parameters: {'learning_rate': 0.015188114729788588, 'n_estimators': 131, 'max_depth': 6}. Best is trial 68 with value: 0.4257986475799944.\n",
      "[I 2024-06-04 18:22:04,616] Trial 84 finished with value: 0.42077673201111765 and parameters: {'learning_rate': 0.019762864108049023, 'n_estimators': 125, 'max_depth': 6}. Best is trial 68 with value: 0.4257986475799944.\n",
      "[I 2024-06-04 18:22:12,014] Trial 85 finished with value: 0.41900050868411565 and parameters: {'learning_rate': 0.011524364798174465, 'n_estimators': 138, 'max_depth': 6}. Best is trial 68 with value: 0.4257986475799944.\n",
      "[I 2024-06-04 18:22:18,682] Trial 86 finished with value: 0.41425388206147346 and parameters: {'learning_rate': 0.01804827172799434, 'n_estimators': 108, 'max_depth': 6}. Best is trial 68 with value: 0.4257986475799944.\n",
      "[I 2024-06-04 18:22:24,141] Trial 87 finished with value: 0.416484767771759 and parameters: {'learning_rate': 0.023534314169432666, 'n_estimators': 102, 'max_depth': 6}. Best is trial 68 with value: 0.4257986475799944.\n",
      "[I 2024-06-04 18:22:30,657] Trial 88 finished with value: 0.4174596782935377 and parameters: {'learning_rate': 0.014222737218889553, 'n_estimators': 122, 'max_depth': 6}. Best is trial 68 with value: 0.4257986475799944.\n",
      "[I 2024-06-04 18:22:36,487] Trial 89 finished with value: 0.40316472889421123 and parameters: {'learning_rate': 0.046193842173702454, 'n_estimators': 111, 'max_depth': 6}. Best is trial 68 with value: 0.4257986475799944.\n",
      "[I 2024-06-04 18:22:43,560] Trial 90 finished with value: 0.3926852762075348 and parameters: {'learning_rate': 0.06231215280987609, 'n_estimators': 119, 'max_depth': 6}. Best is trial 68 with value: 0.4257986475799944.\n",
      "[I 2024-06-04 18:22:49,688] Trial 91 finished with value: 0.41504990991776525 and parameters: {'learning_rate': 0.01636887635295909, 'n_estimators': 113, 'max_depth': 6}. Best is trial 68 with value: 0.4257986475799944.\n",
      "[I 2024-06-04 18:22:55,594] Trial 92 finished with value: 0.42056423690113176 and parameters: {'learning_rate': 0.017373261773503575, 'n_estimators': 117, 'max_depth': 6}. Best is trial 68 with value: 0.4257986475799944.\n",
      "[I 2024-06-04 18:23:02,298] Trial 93 finished with value: 0.418798479670595 and parameters: {'learning_rate': 0.02057897978566633, 'n_estimators': 120, 'max_depth': 6}. Best is trial 68 with value: 0.4257986475799944.\n",
      "[I 2024-06-04 18:23:08,195] Trial 94 finished with value: 0.4251177235544195 and parameters: {'learning_rate': 0.013188875224513515, 'n_estimators': 106, 'max_depth': 6}. Best is trial 68 with value: 0.4257986475799944.\n",
      "[I 2024-06-04 18:23:13,659] Trial 95 finished with value: 0.4257825864512247 and parameters: {'learning_rate': 0.01204816195046644, 'n_estimators': 106, 'max_depth': 6}. Best is trial 68 with value: 0.4257986475799944.\n",
      "[I 2024-06-04 18:23:19,175] Trial 96 finished with value: 0.4169569150698794 and parameters: {'learning_rate': 0.011717041753943997, 'n_estimators': 106, 'max_depth': 6}. Best is trial 68 with value: 0.4257986475799944.\n",
      "[I 2024-06-04 18:23:24,662] Trial 97 finished with value: 0.4244107387882181 and parameters: {'learning_rate': 0.013723925795945233, 'n_estimators': 102, 'max_depth': 6}. Best is trial 68 with value: 0.4257986475799944.\n",
      "[I 2024-06-04 18:23:30,566] Trial 98 finished with value: 0.41691104493264486 and parameters: {'learning_rate': 0.010050285547863483, 'n_estimators': 100, 'max_depth': 6}. Best is trial 68 with value: 0.4257986475799944.\n",
      "[I 2024-06-04 18:23:36,170] Trial 99 finished with value: 0.4228386987938316 and parameters: {'learning_rate': 0.013276484145093408, 'n_estimators': 103, 'max_depth': 6}. Best is trial 68 with value: 0.4257986475799944.\n",
      "2024-06-04 18:23:36,179 - src.model_optimizer - INFO - Best hyperparameters: {'learning_rate': 0.013018859885262388, 'n_estimators': 123, 'max_depth': 6}\n"
     ]
    },
    {
     "name": "stdout",
     "output_type": "stream",
     "text": [
      "CPU times: user 22.9 s, sys: 2.87 s, total: 25.8 s\n",
      "Wall time: 11min 58s\n"
     ]
    }
   ],
   "source": [
    "%%time\n",
    "optimizer = Optimizer(best_model_name, models_list, models_params, n_trials=100)\n",
    "tuned_model_pipeline = optimizer.hyperparameter_tuning(data_transformer, X_train, y_train)\n",
    "\n",
    "# you can observe the optimization process starting optuna dashboard from notebooks/ directory using CLI:\n",
    "# optuna-dashboard sqlite:///db.sqlite3"
   ]
  },
  {
   "cell_type": "code",
   "execution_count": 15,
   "id": "2366779e-6701-4fac-88f3-64c96e0c3fa6",
   "metadata": {},
   "outputs": [
    {
     "name": "stderr",
     "output_type": "stream",
     "text": [
      "2024-06-04 18:23:42,937 - src.modeling - INFO - \n",
      "              precision    recall  f1-score   support\n",
      "\n",
      "           0       0.90      0.93      0.91      3640\n",
      "           1       0.45      0.34      0.38       596\n",
      "\n",
      "    accuracy                           0.85      4236\n",
      "   macro avg       0.67      0.63      0.65      4236\n",
      "weighted avg       0.83      0.85      0.84      4236\n",
      "\n"
     ]
    },
    {
     "data": {
      "text/plain": [
       "{'accuracy': 0.8557601510859302,\n",
       " 'balanced_accuracy_score': 0.6179069252894756,\n",
       " 'precision': 0.8325460019462294,\n",
       " 'recall': 0.8557601510859302,\n",
       " 'f1_score': 0.8399658265671016}"
      ]
     },
     "execution_count": 15,
     "metadata": {},
     "output_type": "execute_result"
    }
   ],
   "source": [
    "# evaluate the tuned model\n",
    "evaluate_model(tuned_model_pipeline, X_test, y_test)\n",
    "metrics = calculate_metrics(y_test, y_pred)\n",
    "metrics"
   ]
  },
  {
   "cell_type": "code",
   "execution_count": 16,
   "id": "9bf558c3-ea6c-42ec-8b51-9590bf170c30",
   "metadata": {},
   "outputs": [
    {
     "data": {
      "image/png": "[encoded data removed]",
      "text/plain": [
       "<Figure size 1000x500 with 1 Axes>"
      ]
     },
     "metadata": {},
     "output_type": "display_data"
    }
   ],
   "source": [
    "show_roc_curve(y_test, y_pred)"
   ]
  },
  {
   "cell_type": "code",
   "execution_count": 17,
   "id": "03c0d4a9-dea5-4449-b225-4ed2a5e37623",
   "metadata": {},
   "outputs": [
    {
     "name": "stderr",
     "output_type": "stream",
     "text": [
      "2024-06-04 18:23:43,111 - src.modeling - INFO - Final model saved to /home/nataliia/Workspaces/edu_private/user_behaviour_prediction/model/trained_model_pipeline_tuned.pkl\n"
     ]
    }
   ],
   "source": [
    "# persist tuned model\n",
    "save_model(tuned_model_pipeline, file_name=\"trained_model_pipeline_tuned.pkl\")"
   ]
  },
  {
   "cell_type": "code",
   "execution_count": null,
   "id": "c1c018bd-ae4b-4882-b838-8651d913c9af",
   "metadata": {},
   "outputs": [],
   "source": []
  },
  {
   "cell_type": "code",
   "execution_count": null,
   "id": "0b542ed5-e490-4562-97e4-10c36eff0cc7",
   "metadata": {},
   "outputs": [],
   "source": []
  }
 ],
 "metadata": {
  "kernelspec": {
   "display_name": "Python 3 (ipykernel)",
   "language": "python",
   "name": "python3"
  },
  "language_info": {
   "codemirror_mode": {
    "name": "ipython",
    "version": 3
   },
   "file_extension": ".py",
   "mimetype": "text/x-python",
   "name": "python",
   "nbconvert_exporter": "python",
   "pygments_lexer": "ipython3",
   "version": "3.11.7"
  }
 },
 "nbformat": 4,
 "nbformat_minor": 5
}
